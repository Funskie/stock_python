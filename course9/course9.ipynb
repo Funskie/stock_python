{
 "cells": [
  {
   "cell_type": "markdown",
   "metadata": {},
   "source": [
    "### 獲取財報資訊\n",
    "\n",
    "這個單元將教您如何獲取財報\n",
    "首先我們要先看一下財報的網址：\n",
    "http://mops.twse.com.tw/server-java/t164sb01?step=1&CO_ID=1101&SYEAR=2017&SSEASON=3&REPORT_ID=C\n",
    "在這一串網址中，有幾個重要的元素：\n",
    "\n",
    "* step: 1 （不知道做啥用的）\n",
    "* CO_ID: 1101 （股票代號）\n",
    "* SYEAR: 2017 （年）\n",
    "* SSEASON: 3 （季）\n",
    "* REPORT_ID：個別財報(A)  個體財報(B)  合併報表(C)\n",
    "\n",
    "這邊的report ID，我們必須要以合併報表優先（90%以上的財報都是合併財報），假如沒有合併報表，我們在抓個體財報喔！"
   ]
  },
  {
   "cell_type": "code",
   "execution_count": 1,
   "metadata": {},
   "outputs": [],
   "source": [
    "# 將網站給爬下來\n",
    "import requests\n",
    "res = requests.get('http://mops.twse.com.tw/server-java/t164sb01?step=1&CO_ID=1101&SYEAR=2017&SSEASON=3&REPORT_ID=C')\n",
    "res.encoding = 'big5' # 也可以試試看 'utf-8' 試到 res.text 沒有中文亂碼就可以囉！"
   ]
  },
  {
   "cell_type": "code",
   "execution_count": 2,
   "metadata": {},
   "outputs": [],
   "source": [
    "from io import StringIO\n",
    "import pandas as pd\n",
    "\n",
    "# 將 res.text 用 StringIO 轉成 檔案 再用 pd.read_html 將 html文字檔轉成 dataframe\n",
    "dfs = pd.read_html(StringIO(res.text))"
   ]
  },
  {
   "cell_type": "code",
   "execution_count": 3,
   "metadata": {},
   "outputs": [
    {
     "data": {
      "text/html": [
       "<div>\n",
       "<style scoped>\n",
       "    .dataframe tbody tr th:only-of-type {\n",
       "        vertical-align: middle;\n",
       "    }\n",
       "\n",
       "    .dataframe tbody tr th {\n",
       "        vertical-align: top;\n",
       "    }\n",
       "\n",
       "    .dataframe thead th {\n",
       "        text-align: right;\n",
       "    }\n",
       "</style>\n",
       "<table border=\"1\" class=\"dataframe\">\n",
       "  <thead>\n",
       "    <tr style=\"text-align: right;\">\n",
       "      <th></th>\n",
       "      <th>0</th>\n",
       "      <th>1</th>\n",
       "      <th>2</th>\n",
       "      <th>3</th>\n",
       "    </tr>\n",
       "  </thead>\n",
       "  <tbody>\n",
       "    <tr>\n",
       "      <th>0</th>\n",
       "      <td>會計項目</td>\n",
       "      <td>2017年09月30日</td>\n",
       "      <td>2016年12月31日</td>\n",
       "      <td>2016年09月30日</td>\n",
       "    </tr>\n",
       "    <tr>\n",
       "      <th>1</th>\n",
       "      <td>資產負債表</td>\n",
       "      <td>NaN</td>\n",
       "      <td>NaN</td>\n",
       "      <td>NaN</td>\n",
       "    </tr>\n",
       "    <tr>\n",
       "      <th>2</th>\n",
       "      <td>資產</td>\n",
       "      <td>NaN</td>\n",
       "      <td>NaN</td>\n",
       "      <td>NaN</td>\n",
       "    </tr>\n",
       "    <tr>\n",
       "      <th>3</th>\n",
       "      <td>流動資產</td>\n",
       "      <td>NaN</td>\n",
       "      <td>NaN</td>\n",
       "      <td>NaN</td>\n",
       "    </tr>\n",
       "    <tr>\n",
       "      <th>4</th>\n",
       "      <td>現金及約當現金</td>\n",
       "      <td>NaN</td>\n",
       "      <td>NaN</td>\n",
       "      <td>NaN</td>\n",
       "    </tr>\n",
       "  </tbody>\n",
       "</table>\n",
       "</div>"
      ],
      "text/plain": [
       "         0            1            2            3\n",
       "0     會計項目  2017年09月30日  2016年12月31日  2016年09月30日\n",
       "1    資產負債表          NaN          NaN          NaN\n",
       "2       資產          NaN          NaN          NaN\n",
       "3     流動資產          NaN          NaN          NaN\n",
       "4  現金及約當現金          NaN          NaN          NaN"
      ]
     },
     "execution_count": 3,
     "metadata": {},
     "output_type": "execute_result"
    }
   ],
   "source": [
    "dfs[1].head()"
   ]
  },
  {
   "cell_type": "code",
   "execution_count": 4,
   "metadata": {},
   "outputs": [
    {
     "name": "stdout",
     "output_type": "stream",
     "text": [
      "1101\n",
      "2330\n"
     ]
    }
   ],
   "source": [
    "#for sid in ['1101', '2330']:\n",
    "import time\n",
    "import os\n",
    "\n",
    "# 假如沒有 course9 這個資料夾\n",
    "if 'course9' not in os.listdir():\n",
    "    \n",
    "    # 就創建一個\n",
    "    os.mkdir('course9')\n",
    "\n",
    "# 想要爬的股票代號\n",
    "sid = ['1101', '2330']\n",
    "\n",
    "# 對於每一筆股票代號\n",
    "for s in sid:\n",
    "    \n",
    "    # 爬取它的html檔\n",
    "    res = requests.get('http://mops.twse.com.tw/server-java/t164sb01?step=1&CO_ID=' + s + '&SYEAR=2017&SSEASON=3&REPORT_ID=C')\n",
    "    res.encoding = 'big5'\n",
    "    \n",
    "    # 設定存檔的路徑 ex: course9\\1101.html\n",
    "    path = os.path.join('course9', s + '.html')\n",
    "    \n",
    "    # 將檔案打開，寫入html，然後關閉\n",
    "    f = open(path, 'w', encoding='utf-8')\n",
    "    f.write(res.text)\n",
    "    f.close()\n",
    "    \n",
    "    print(s)\n",
    "    \n",
    "    # 休息20秒，在跑下一支股票\n",
    "    time.sleep(20)\n"
   ]
  },
  {
   "cell_type": "code",
   "execution_count": 6,
   "metadata": {
    "collapsed": true
   },
   "outputs": [],
   "source": [
    "dfs = []\n",
    "\n",
    "# 對於每一支股票\n",
    "for s in sid:\n",
    "    \n",
    "    # 將檔案 ex: course9\\1101.html 拿出來\n",
    "    path = os.path.join('course9', s + '.html')\n",
    "    \n",
    "    # 存在 dfs 中\n",
    "    dfs.append(pd.read_html(path, encoding='utf-8'))"
   ]
  },
  {
   "cell_type": "code",
   "execution_count": 10,
   "metadata": {},
   "outputs": [
    {
     "data": {
      "text/html": [
       "<div>\n",
       "<style scoped>\n",
       "    .dataframe tbody tr th:only-of-type {\n",
       "        vertical-align: middle;\n",
       "    }\n",
       "\n",
       "    .dataframe tbody tr th {\n",
       "        vertical-align: top;\n",
       "    }\n",
       "\n",
       "    .dataframe thead th {\n",
       "        text-align: right;\n",
       "    }\n",
       "</style>\n",
       "<table border=\"1\" class=\"dataframe\">\n",
       "  <thead>\n",
       "    <tr style=\"text-align: right;\">\n",
       "      <th></th>\n",
       "      <th>0</th>\n",
       "      <th>1</th>\n",
       "      <th>2</th>\n",
       "      <th>3</th>\n",
       "    </tr>\n",
       "  </thead>\n",
       "  <tbody>\n",
       "    <tr>\n",
       "      <th>0</th>\n",
       "      <td>會計項目</td>\n",
       "      <td>2017年09月30日</td>\n",
       "      <td>2016年12月31日</td>\n",
       "      <td>2016年09月30日</td>\n",
       "    </tr>\n",
       "    <tr>\n",
       "      <th>1</th>\n",
       "      <td>資產負債表</td>\n",
       "      <td>NaN</td>\n",
       "      <td>NaN</td>\n",
       "      <td>NaN</td>\n",
       "    </tr>\n",
       "    <tr>\n",
       "      <th>2</th>\n",
       "      <td>資產</td>\n",
       "      <td>NaN</td>\n",
       "      <td>NaN</td>\n",
       "      <td>NaN</td>\n",
       "    </tr>\n",
       "    <tr>\n",
       "      <th>3</th>\n",
       "      <td>流動資產</td>\n",
       "      <td>NaN</td>\n",
       "      <td>NaN</td>\n",
       "      <td>NaN</td>\n",
       "    </tr>\n",
       "    <tr>\n",
       "      <th>4</th>\n",
       "      <td>現金及約當現金</td>\n",
       "      <td>NaN</td>\n",
       "      <td>NaN</td>\n",
       "      <td>NaN</td>\n",
       "    </tr>\n",
       "    <tr>\n",
       "      <th>5</th>\n",
       "      <td>現金及約當現金合計</td>\n",
       "      <td>26608300</td>\n",
       "      <td>28179758</td>\n",
       "      <td>27229371</td>\n",
       "    </tr>\n",
       "    <tr>\n",
       "      <th>6</th>\n",
       "      <td>透過損益按公允價值衡量之金融資產－流動</td>\n",
       "      <td>NaN</td>\n",
       "      <td>NaN</td>\n",
       "      <td>NaN</td>\n",
       "    </tr>\n",
       "    <tr>\n",
       "      <th>7</th>\n",
       "      <td>透過損益按公允價值衡量之金融資產－流動合計</td>\n",
       "      <td>147571</td>\n",
       "      <td>148488</td>\n",
       "      <td>162966</td>\n",
       "    </tr>\n",
       "    <tr>\n",
       "      <th>8</th>\n",
       "      <td>備供出售金融資產－流動</td>\n",
       "      <td>NaN</td>\n",
       "      <td>NaN</td>\n",
       "      <td>NaN</td>\n",
       "    </tr>\n",
       "    <tr>\n",
       "      <th>9</th>\n",
       "      <td>備供出售金融資產－流動淨額</td>\n",
       "      <td>20061583</td>\n",
       "      <td>15536693</td>\n",
       "      <td>15375305</td>\n",
       "    </tr>\n",
       "  </tbody>\n",
       "</table>\n",
       "</div>"
      ],
      "text/plain": [
       "                       0            1            2            3\n",
       "0                   會計項目  2017年09月30日  2016年12月31日  2016年09月30日\n",
       "1                  資產負債表          NaN          NaN          NaN\n",
       "2                     資產          NaN          NaN          NaN\n",
       "3                   流動資產          NaN          NaN          NaN\n",
       "4                現金及約當現金          NaN          NaN          NaN\n",
       "5              現金及約當現金合計     26608300     28179758     27229371\n",
       "6    透過損益按公允價值衡量之金融資產－流動          NaN          NaN          NaN\n",
       "7  透過損益按公允價值衡量之金融資產－流動合計       147571       148488       162966\n",
       "8            備供出售金融資產－流動          NaN          NaN          NaN\n",
       "9          備供出售金融資產－流動淨額     20061583     15536693     15375305"
      ]
     },
     "execution_count": 10,
     "metadata": {},
     "output_type": "execute_result"
    }
   ],
   "source": [
    "dfs[1].head(10)"
   ]
  },
  {
   "cell_type": "code",
   "execution_count": null,
   "metadata": {
    "collapsed": true
   },
   "outputs": [],
   "source": []
  }
 ],
 "metadata": {
  "kernelspec": {
   "display_name": "Python 3",
   "language": "python",
   "name": "python3"
  },
  "language_info": {
   "codemirror_mode": {
    "name": "ipython",
    "version": 3
   },
   "file_extension": ".py",
   "mimetype": "text/x-python",
   "name": "python",
   "nbconvert_exporter": "python",
   "pygments_lexer": "ipython3",
   "version": "3.6.3"
  }
 },
 "nbformat": 4,
 "nbformat_minor": 2
}
