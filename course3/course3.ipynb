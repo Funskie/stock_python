{
 "cells": [
  {
   "cell_type": "markdown",
   "metadata": {},
   "source": [
    "# 神奇的 Pandas\n",
    "\n",
    "利用Pandas，我們可以分析time series，Pandas有兩種主要的資料結構：\n",
    "* Series：一條時間序列\n",
    "* DataFrame：很多的時間序列\n",
    "\n",
    "假如您會使用Series，相信離精通DataFrame也不遠了！\n",
    "\n",
    "所以接下來我們以Series開始講起！\n",
    "\n",
    "## 創建\n",
    "\n",
    "Series 的創建可以參考[Pandas 文檔](http://pandas.pydata.org/pandas-docs/stable/generated/pandas.Series.html)\n",
    "閱讀文檔是很重要的！課堂中不可能教您1000種Pandas的用法，甚至我也不可能全部背起來！\n",
    "但藉由看文檔，我們可以即時找到需要的功能！\n",
    "\n",
    "所以推薦大家多多練習喔！\n",
    "\n",
    "以下我們先介紹常用的手法"
   ]
  },
  {
   "cell_type": "code",
   "execution_count": 2,
   "metadata": {},
   "outputs": [
    {
     "ename": "ModuleNotFoundError",
     "evalue": "No module named 'pandas'",
     "output_type": "error",
     "traceback": [
      "\u001b[0;31m---------------------------------------------------------------------------\u001b[0m",
      "\u001b[0;31mModuleNotFoundError\u001b[0m                       Traceback (most recent call last)",
      "\u001b[0;32m<ipython-input-2-d0938a206728>\u001b[0m in \u001b[0;36m<module>\u001b[0;34m()\u001b[0m\n\u001b[1;32m      5\u001b[0m \u001b[0;31m# 首先呢，我們要把pandas給叫進來，等等才能使用\u001b[0m\u001b[0;34m\u001b[0m\u001b[0;34m\u001b[0m\u001b[0m\n\u001b[1;32m      6\u001b[0m \u001b[0;31m# 我們將pandas重新取名為pd（不取也是可以，但通常大家都會寫這行），因為這樣字比較少XDD，待會呼叫打的字比較少XD\u001b[0m\u001b[0;34m\u001b[0m\u001b[0;34m\u001b[0m\u001b[0m\n\u001b[0;32m----> 7\u001b[0;31m \u001b[0;32mimport\u001b[0m \u001b[0mpandas\u001b[0m \u001b[0;32mas\u001b[0m \u001b[0mpd\u001b[0m\u001b[0;34m\u001b[0m\u001b[0m\n\u001b[0m\u001b[1;32m      8\u001b[0m \u001b[0;34m\u001b[0m\u001b[0m\n\u001b[1;32m      9\u001b[0m \u001b[0;31m# 接下來我們來創建一條序列，\u001b[0m\u001b[0;34m\u001b[0m\u001b[0;34m\u001b[0m\u001b[0m\n",
      "\u001b[0;31mModuleNotFoundError\u001b[0m: No module named 'pandas'"
     ]
    }
   ],
   "source": [
    "# 身為碼農，我們要記得留意每一行註解喔！因為字裡行間可以有一些資訊，讓你少走冤枉路，更瞭解code在寫什麼！\n",
    "# 什麼是註解呢？就是有 `#` 字後面接的字，都是註解喔！\n",
    "# 不過通常註解都是英文，這邊為了方便閱讀，所以改成繁體中文XDD\n",
    "\n",
    "# 首先呢，我們要把pandas給叫進來，等等才能使用\n",
    "# 我們將pandas重新取名為pd（不取也是可以，但通常大家都會寫這行），因為這樣字比較少XDD，待會呼叫打的字比較少XD\n",
    "import pandas as pd\n",
    "\n",
    "# 接下來我們來創建一條序列，\n",
    "# 創建序列要用`pd.Series`這個建構函式，其中的S為大寫代表我們要生成一個物件（建構子）！不然一般的function開頭都是小寫喔！\n",
    "# `pd.Series` 中的第一個參數，我們要給它一個list，讓它把list轉換成 Series 喔！\n",
    "s = pd.Series([1,2,3,4])\n",
    "\n",
    "# 上面兩行等同於 s = pd.Series([1,2,3,4])\n",
    "\n",
    "\n",
    "# 最後，我們在把s給print出來看看，s到底長什麼樣子\n",
    "s\n",
    "# 不用打print喔！因為jupyter 會自動印出每個block的最後一航程式"
   ]
  },
  {
   "cell_type": "markdown",
   "metadata": {},
   "source": [
    "跑出結果了！發現有兩列數字（columns）\n",
    "* 第一條columns顯示0～3，為index\n",
    "* 第二條就是每個index所對應到的值\n",
    "\n",
    "你可能會想說「疑？感覺不是跟list很像？為何要多此一舉呢？」\n",
    "接下來就不一樣囉！我們來做一條time series"
   ]
  },
  {
   "cell_type": "code",
   "execution_count": 2,
   "metadata": {},
   "outputs": [
    {
     "data": {
      "text/plain": [
       "2018-01-01    1\n",
       "2018-01-02    2\n",
       "2018-01-03    3\n",
       "2018-01-04    4\n",
       "2018-01-05    5\n",
       "2018-01-06    6\n",
       "Freq: D, dtype: int64"
      ]
     },
     "execution_count": 2,
     "metadata": {},
     "output_type": "execute_result"
    }
   ],
   "source": [
    "date = pd.date_range('20180101', periods=6)\n",
    "s = pd.Series([1,2,3,4,5,6], index=date)\n",
    "s"
   ]
  },
  {
   "cell_type": "markdown",
   "metadata": {},
   "source": [
    "每個時間都對應到一個值，這就是傳說中的time series了！\n",
    "\n",
    "接下來，我們也可以直接創造全部都是0的time series喔！只要把list換成一個任意數字就可以了："
   ]
  },
  {
   "cell_type": "code",
   "execution_count": 4,
   "metadata": {},
   "outputs": [
    {
     "data": {
      "text/plain": [
       "2018-01-01    0\n",
       "2018-01-02    0\n",
       "2018-01-03    0\n",
       "2018-01-04    0\n",
       "2018-01-05    0\n",
       "2018-01-06    0\n",
       "Freq: D, dtype: int64"
      ]
     },
     "execution_count": 4,
     "metadata": {},
     "output_type": "execute_result"
    }
   ],
   "source": [
    "s = pd.Series(0, index=date)\n",
    "s"
   ]
  },
  {
   "cell_type": "markdown",
   "metadata": {},
   "source": [
    "接下來，我們就來看看，如何把time series其中的值給找出來！\n",
    "\n",
    "## 查找"
   ]
  },
  {
   "cell_type": "code",
   "execution_count": 5,
   "metadata": {},
   "outputs": [
    {
     "data": {
      "text/plain": [
       "4"
      ]
     },
     "execution_count": 5,
     "metadata": {},
     "output_type": "execute_result"
    }
   ],
   "source": [
    "# 建立一個 time series\n",
    "date = pd.date_range('20180101', periods=6)\n",
    "s = pd.Series([1,2,3,4,5,6], index=date)\n",
    "\n",
    "# 查找\n",
    "s.loc['20180104']"
   ]
  },
  {
   "cell_type": "code",
   "execution_count": 6,
   "metadata": {},
   "outputs": [
    {
     "data": {
      "text/plain": [
       "2018-01-02    2\n",
       "2018-01-03    3\n",
       "2018-01-04    4\n",
       "Freq: D, dtype: int64"
      ]
     },
     "execution_count": 6,
     "metadata": {},
     "output_type": "execute_result"
    }
   ],
   "source": [
    "s.loc['20180102':'2018-01-04']"
   ]
  },
  {
   "cell_type": "code",
   "execution_count": 7,
   "metadata": {},
   "outputs": [
    {
     "data": {
      "text/plain": [
       "2"
      ]
     },
     "execution_count": 7,
     "metadata": {},
     "output_type": "execute_result"
    }
   ],
   "source": [
    "s.iloc[1]"
   ]
  },
  {
   "cell_type": "code",
   "execution_count": 8,
   "metadata": {},
   "outputs": [
    {
     "data": {
      "text/plain": [
       "2018-01-02    2\n",
       "2018-01-03    3\n",
       "2018-01-04    4\n",
       "Freq: D, dtype: int64"
      ]
     },
     "execution_count": 8,
     "metadata": {},
     "output_type": "execute_result"
    }
   ],
   "source": [
    "s.iloc[1:4]"
   ]
  },
  {
   "cell_type": "markdown",
   "metadata": {},
   "source": [
    "以上四種方式，大家搞清楚了嗎？\n",
    "\n",
    "既然可以查找，那接下來，我們就來修改一下序列吧！\n",
    "\n",
    "## 修改"
   ]
  },
  {
   "cell_type": "code",
   "execution_count": 9,
   "metadata": {},
   "outputs": [
    {
     "data": {
      "text/plain": [
       "2018-01-01    1\n",
       "2018-01-02    2\n",
       "2018-01-03    3\n",
       "2018-01-04    4\n",
       "2018-01-05    5\n",
       "2018-01-06    6\n",
       "Freq: D, dtype: int64"
      ]
     },
     "execution_count": 9,
     "metadata": {},
     "output_type": "execute_result"
    }
   ],
   "source": [
    "l = [1,2,3,4,5,6]\n",
    "date_index = pd.date_range('20180101', periods=6)\n",
    "\n",
    "s = pd.Series(l, index=date_index)\n",
    "s"
   ]
  },
  {
   "cell_type": "code",
   "execution_count": 10,
   "metadata": {},
   "outputs": [
    {
     "name": "stdout",
     "output_type": "stream",
     "text": [
      "2018-01-01    1\n",
      "2018-01-02    2\n",
      "2018-01-03    3\n",
      "2018-01-04    4\n",
      "2018-01-05    5\n",
      "2018-01-06    6\n",
      "Freq: D, dtype: int64\n"
     ]
    },
    {
     "data": {
      "text/plain": [
       "1.8708286933869707"
      ]
     },
     "execution_count": 10,
     "metadata": {},
     "output_type": "execute_result"
    }
   ],
   "source": [
    "print(s)\n",
    "#s.max()\n",
    "#s.min()\n",
    "#s.mean()\n",
    "s.std()"
   ]
  },
  {
   "cell_type": "code",
   "execution_count": 12,
   "metadata": {},
   "outputs": [
    {
     "name": "stdout",
     "output_type": "stream",
     "text": [
      "2018-01-01    1\n",
      "2018-01-02    2\n",
      "2018-01-03    3\n",
      "2018-01-04    4\n",
      "2018-01-05    5\n",
      "2018-01-06    6\n",
      "Freq: D, dtype: int64\n"
     ]
    },
    {
     "data": {
      "text/plain": [
       "2018-01-01      1\n",
       "2018-01-02      2\n",
       "2018-01-03      6\n",
       "2018-01-04     24\n",
       "2018-01-05    120\n",
       "2018-01-06    720\n",
       "Freq: D, dtype: int64"
      ]
     },
     "execution_count": 12,
     "metadata": {},
     "output_type": "execute_result"
    }
   ],
   "source": [
    "print(s)\n",
    "# s.cumsum()\n",
    "s.cumprod()"
   ]
  },
  {
   "cell_type": "code",
   "execution_count": 13,
   "metadata": {},
   "outputs": [
    {
     "name": "stdout",
     "output_type": "stream",
     "text": [
      "2018-01-01    1\n",
      "2018-01-02    2\n",
      "2018-01-03    3\n",
      "2018-01-04    4\n",
      "2018-01-05    5\n",
      "2018-01-06    6\n",
      "Freq: D, dtype: int64\n"
     ]
    },
    {
     "data": {
      "text/plain": [
       "2018-01-01    NaN\n",
       "2018-01-02    2.0\n",
       "2018-01-03    3.0\n",
       "2018-01-04    4.0\n",
       "2018-01-05    5.0\n",
       "2018-01-06    6.0\n",
       "Freq: D, dtype: float64"
      ]
     },
     "execution_count": 13,
     "metadata": {},
     "output_type": "execute_result"
    }
   ],
   "source": [
    "print(s)\n",
    "# s.rolling(2).sum()\n",
    "s.rolling(2).max()\n",
    "#s.rolling(2).min()\n",
    "#s.rolling(2).mean()\n",
    "#s.rolling(2).std()"
   ]
  },
  {
   "cell_type": "code",
   "execution_count": 12,
   "metadata": {},
   "outputs": [
    {
     "name": "stdout",
     "output_type": "stream",
     "text": [
      "2018-01-01    1\n",
      "2018-01-02    2\n",
      "2018-01-03    3\n",
      "2018-01-04    4\n",
      "2018-01-05    5\n",
      "2018-01-06    6\n",
      "Freq: D, dtype: int64\n"
     ]
    },
    {
     "data": {
      "text/plain": [
       "2018-01-01     True\n",
       "2018-01-02     True\n",
       "2018-01-03    False\n",
       "2018-01-04    False\n",
       "2018-01-05    False\n",
       "2018-01-06    False\n",
       "Freq: D, dtype: bool"
      ]
     },
     "execution_count": 12,
     "metadata": {},
     "output_type": "execute_result"
    }
   ],
   "source": [
    "print(s)\n",
    "#s + 1\n",
    "#s - 1\n",
    "#s * 2\n",
    "#s / 2\n",
    "#s > 3\n",
    "s < 3"
   ]
  },
  {
   "cell_type": "markdown",
   "metadata": {},
   "source": [
    "## 繪圖"
   ]
  },
  {
   "cell_type": "code",
   "execution_count": 17,
   "metadata": {},
   "outputs": [
    {
     "data": {
      "text/plain": [
       "<matplotlib.axes._subplots.AxesSubplot at 0x115b19080>"
      ]
     },
     "execution_count": 17,
     "metadata": {},
     "output_type": "execute_result"
    },
    {
     "data": {
      "image/png": "[encoded data removed]",
      "text/plain": [
       "<Figure size 432x288 with 1 Axes>"
      ]
     },
     "metadata": {},
     "output_type": "display_data"
    }
   ],
   "source": [
    "%matplotlib inline\n",
    "s.plot()"
   ]
  },
  {
   "cell_type": "markdown",
   "metadata": {},
   "source": [
    "## 綜合應用！"
   ]
  },
  {
   "cell_type": "code",
   "execution_count": 14,
   "metadata": {},
   "outputs": [
    {
     "data": {
      "text/plain": [
       "2018-01-04    4\n",
       "2018-01-05    5\n",
       "2018-01-06    6\n",
       "Freq: D, dtype: int64"
      ]
     },
     "execution_count": 14,
     "metadata": {},
     "output_type": "execute_result"
    }
   ],
   "source": [
    "larger_than_3 = s > 3\n",
    "s.loc[larger_than_3]"
   ]
  },
  {
   "cell_type": "code",
   "execution_count": 15,
   "metadata": {},
   "outputs": [
    {
     "data": {
      "text/plain": [
       "2018-01-01    1\n",
       "2018-01-02    2\n",
       "2018-01-03    3\n",
       "2018-01-04    5\n",
       "2018-01-05    6\n",
       "2018-01-06    7\n",
       "Freq: D, dtype: int64"
      ]
     },
     "execution_count": 15,
     "metadata": {},
     "output_type": "execute_result"
    }
   ],
   "source": [
    "s.loc[larger_than_3] = s.loc[larger_than_3] + 1\n",
    "s"
   ]
  },
  {
   "cell_type": "markdown",
   "metadata": {},
   "source": [
    "接下來你會看到一串可怕的運算，但別擔心，我們把它拆解開來看！\n",
    "* 從頭開始讀\n",
    "* 遇到會先算"
   ]
  },
  {
   "cell_type": "code",
   "execution_count": 16,
   "metadata": {},
   "outputs": [
    {
     "data": {
      "text/plain": [
       "41.0"
      ]
     },
     "execution_count": 16,
     "metadata": {},
     "output_type": "execute_result"
    }
   ],
   "source": [
    "(s.rolling(2).sum().cumsum() + 1).max()"
   ]
  },
  {
   "cell_type": "code",
   "execution_count": 17,
   "metadata": {},
   "outputs": [
    {
     "data": {
      "text/plain": [
       "7"
      ]
     },
     "execution_count": 17,
     "metadata": {},
     "output_type": "execute_result"
    }
   ],
   "source": [
    "# 在跑出它之前，先用手算算看\n",
    "# 究竟會跑出多少呢？\n",
    "((s + 2).cumprod() + 4).min()"
   ]
  },
  {
   "cell_type": "markdown",
   "metadata": {},
   "source": [
    "### 習題\n",
    "\n",
    "假設某小明體重從'2018-01-01'為60公斤，由於在'2018-01-03'吃太多，導致隔天起床發現變重5公斤，\n",
    "\n",
    "請畫出小明體重的time series"
   ]
  },
  {
   "cell_type": "code",
   "execution_count": null,
   "metadata": {
    "collapsed": true
   },
   "outputs": [],
   "source": [
    "weight = pd.Series(60, index=pd.date_range('2018-01-01', periods=10))\n",
    "weight.loc['2018-01-04':] += 5\n",
    "weight\n",
    "#weight = pd.Series(60, index=pd.date_range('2018-01-01', periods=6))\n",
    "#weight.loc['2018-01-04':] += 5\n",
    "#weight"
   ]
  },
  {
   "cell_type": "markdown",
   "metadata": {},
   "source": [
    "# DataFrame 介紹！"
   ]
  },
  {
   "cell_type": "markdown",
   "metadata": {},
   "source": [
    "DataFrame 基本上，可以想像是很多的time series，\n",
    "\n",
    "我們剛剛所學，都是修改其中一條 Series，但我們藉由dataframe，就能以相同的function，直接修改多個Series喔！"
   ]
  },
  {
   "cell_type": "code",
   "execution_count": null,
   "metadata": {
    "collapsed": true
   },
   "outputs": [],
   "source": [
    "s1 = pd.Series([1,2,3,4,5,6], index=date)\n",
    "s2 = pd.Series([5,6,7,8,9,10], index=date)\n",
    "s3 = pd.Series([11,12,5,7,8,2], index=date)\n",
    "\n",
    "dictionary = {\n",
    "    'c1': s1,\n",
    "    'c2': s2,\n",
    "    'c3': s3,\n",
    "}\n",
    "\n",
    "df = pd.DataFrame(dictionary)\n",
    "df"
   ]
  },
  {
   "cell_type": "code",
   "execution_count": null,
   "metadata": {
    "collapsed": true
   },
   "outputs": [],
   "source": [
    "%matplotlib inline\n",
    "df.plot()"
   ]
  },
  {
   "cell_type": "markdown",
   "metadata": {},
   "source": [
    "## 選取\n",
    "\n",
    "我們選取方式，幾乎跟剛剛一模一樣："
   ]
  },
  {
   "cell_type": "code",
   "execution_count": null,
   "metadata": {
    "collapsed": true
   },
   "outputs": [],
   "source": [
    "df.loc['2018-01-02']"
   ]
  },
  {
   "cell_type": "code",
   "execution_count": null,
   "metadata": {
    "collapsed": true
   },
   "outputs": [],
   "source": [
    "df.iloc[1]"
   ]
  },
  {
   "cell_type": "code",
   "execution_count": null,
   "metadata": {
    "collapsed": true
   },
   "outputs": [],
   "source": [
    "df.loc['2018-01-02':'2018-01-05', ['c1', 'c2']]"
   ]
  },
  {
   "cell_type": "code",
   "execution_count": null,
   "metadata": {
    "collapsed": true
   },
   "outputs": [],
   "source": [
    "df.iloc[1:4, [0, 1]]"
   ]
  },
  {
   "cell_type": "code",
   "execution_count": null,
   "metadata": {
    "collapsed": true
   },
   "outputs": [],
   "source": [
    "df.cumsum()"
   ]
  },
  {
   "cell_type": "code",
   "execution_count": null,
   "metadata": {
    "collapsed": true
   },
   "outputs": [],
   "source": [
    "df.cumprod()"
   ]
  },
  {
   "cell_type": "code",
   "execution_count": null,
   "metadata": {
    "collapsed": true
   },
   "outputs": [],
   "source": [
    "df.rolling(2).mean()"
   ]
  },
  {
   "cell_type": "markdown",
   "metadata": {},
   "source": [
    "大家會發現，就是每條序列都執行一次原本series的功能而已！所以dataframe就這麼快速的教完囉！\n",
    "\n",
    "學都學不完，我也有一堆function沒有用過呀！所以還是建議大家在寫code時，搭配doc（文檔）服用喔！"
   ]
  },
  {
   "cell_type": "markdown",
   "metadata": {},
   "source": [
    "下面就是DataFrame才有的功能囉！"
   ]
  },
  {
   "cell_type": "code",
   "execution_count": null,
   "metadata": {
    "collapsed": true
   },
   "outputs": [],
   "source": [
    "df['c3']"
   ]
  },
  {
   "cell_type": "code",
   "execution_count": null,
   "metadata": {
    "collapsed": true
   },
   "outputs": [],
   "source": [
    "print(df)\n",
    "df.cumsum(axis=1)"
   ]
  },
  {
   "cell_type": "markdown",
   "metadata": {},
   "source": [
    "\n"
   ]
  }
 ],
 "metadata": {
  "kernelspec": {
   "display_name": "Python 3",
   "language": "python",
   "name": "python3"
  },
  "language_info": {
   "codemirror_mode": {
    "name": "ipython",
    "version": 3
   },
   "file_extension": ".py",
   "mimetype": "text/x-python",
   "name": "python",
   "nbconvert_exporter": "python",
   "pygments_lexer": "ipython3",
   "version": "3.6.6"
  }
 },
 "nbformat": 4,
 "nbformat_minor": 2
}
