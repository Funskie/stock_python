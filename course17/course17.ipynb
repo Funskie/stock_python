{
 "cells": [
  {
   "cell_type": "code",
   "execution_count": 1,
   "metadata": {},
   "outputs": [],
   "source": [
    "from finlab.data import Data\n",
    "data = Data()"
   ]
  },
  {
   "cell_type": "markdown",
   "metadata": {},
   "source": [
    "# 條件一：公司的市值"
   ]
  },
  {
   "cell_type": "code",
   "execution_count": 2,
   "metadata": {},
   "outputs": [],
   "source": [
    "# 先拿出計算市值需要用到的財務數據\n",
    "\n",
    "股本 = data.get('股本合計', 1)\n",
    "price = data.get('收盤價', 100)"
   ]
  },
  {
   "cell_type": "code",
   "execution_count": 3,
   "metadata": {},
   "outputs": [
    {
     "data": {
      "text/plain": [
       "184723141500.0"
      ]
     },
     "execution_count": 3,
     "metadata": {},
     "output_type": "execute_result"
    }
   ],
   "source": [
    "\n",
    "# ----------- #\n",
    "# 找出當天股價  #\n",
    "# ----------- #\n",
    "\n",
    "# 新版（較簡單）：將頻率為「天」的股價，reindex 成每「季」\n",
    "# method='fill'是說，假如公佈財報那天沒有股價，則以時間往前最接近的那天為主。\n",
    "\n",
    "當天股價 = price.reindex(股本.index, method='ffill').iloc[-1]\n",
    "\n",
    "# 原本（較難）：當天股價 = price.loc[:股本.index[0]].iloc[-1]\n",
    "\n",
    "# ----------- #\n",
    "# 找出當天股本  #\n",
    "# ----------- #\n",
    "\n",
    "當天股本 = 股本.iloc[-1]\n",
    "\n",
    "# -----------  #\n",
    "# 計算市值      #\n",
    "# -----------  #\n",
    "\n",
    "# 市值 = 總股數 * 股價\n",
    "#     = （股本 * 1000） / 10 * 股價\n",
    "\n",
    "市值 = 當天股本 * 1000 / 10 * 當天股價\n",
    "市值['1101']"
   ]
  },
  {
   "cell_type": "markdown",
   "metadata": {},
   "source": [
    "# 條件二：自由現金流"
   ]
  },
  {
   "cell_type": "code",
   "execution_count": 4,
   "metadata": {},
   "outputs": [
    {
     "data": {
      "text/plain": [
       "count    8.530000e+02\n",
       "mean     1.161948e+06\n",
       "std      1.403177e+07\n",
       "min     -1.384047e+08\n",
       "25%     -2.252450e+05\n",
       "50%      7.269200e+04\n",
       "75%      6.172730e+05\n",
       "max      2.846422e+08\n",
       "dtype: float64"
      ]
     },
     "execution_count": 4,
     "metadata": {},
     "output_type": "execute_result"
    }
   ],
   "source": [
    "import pandas as pd\n",
    "\n",
    "# 將每季累計的財務數據，轉換成單季\n",
    "def toSeasonal(df):\n",
    "    season4 = df[df.index.month == 3]\n",
    "    season1 = df[df.index.month == 5]\n",
    "    season2 = df[df.index.month == 8]\n",
    "    season3 = df[df.index.month == 11]\n",
    "\n",
    "    season1.index = season1.index.year\n",
    "    season2.index = season2.index.year\n",
    "    season3.index = season3.index.year\n",
    "    season4.index = season4.index.year - 1\n",
    "\n",
    "    newseason1 = season1\n",
    "    newseason2 = season2 - season1.reindex_like(season2)\n",
    "    newseason3 = season3 - season2.reindex_like(season3)\n",
    "    newseason4 = season4 - season3.reindex_like(season4)\n",
    "\n",
    "    newseason1.index = pd.to_datetime(newseason1.index.astype(str) + '-05-15')\n",
    "    newseason2.index = pd.to_datetime(newseason2.index.astype(str) + '-08-14')\n",
    "    newseason3.index = pd.to_datetime(newseason3.index.astype(str) + '-11-14')\n",
    "    newseason4.index = pd.to_datetime((newseason4.index + 1).astype(str) + '-03-31')\n",
    "\n",
    "    return newseason1.append(newseason2).append(newseason3).append(newseason4).sort_index()\n",
    "    \n",
    "# 計算自由現金流 = 營業活動之淨現金流入 - 投資活動之淨現金流出\n",
    "投資現金流 = toSeasonal(data.get('投資活動之淨現金流入（流出）', 8))\n",
    "營業現金流 = toSeasonal(data.get('營業活動之淨現金流入（流出）', 8))\n",
    "自由現金流 = (投資現金流 + 營業現金流).iloc[-4:].sum()\n",
    "自由現金流.describe()"
   ]
  },
  {
   "cell_type": "markdown",
   "metadata": {},
   "source": [
    "# 條件三：股東權益報酬率"
   ]
  },
  {
   "cell_type": "code",
   "execution_count": 16,
   "metadata": {},
   "outputs": [
    {
     "data": {
      "text/plain": [
       "count    821.000000\n",
       "mean      -0.011035\n",
       "std        0.556228\n",
       "min      -15.538886\n",
       "25%       -0.001523\n",
       "50%        0.011325\n",
       "75%        0.026841\n",
       "max        1.856361\n",
       "Name: 2018-05-15 00:00:00, dtype: float64"
      ]
     },
     "execution_count": 16,
     "metadata": {},
     "output_type": "execute_result"
    }
   ],
   "source": [
    "稅後淨利 = data.get('本期淨利（淨損）', 1)\n",
    "\n",
    "# 修正：因為有些股東權益的名稱叫作「權益總計」有些叫作「權益總額」，所以要先將這兩個dataframe合併起來喔！\n",
    "權益總計 = data.get('權益總計', 1)\n",
    "權益總額 = data.get('權益總額', 1)\n",
    "\n",
    "# 把它們合併起來（將「權益總計」為NaN的部分填上「權益總額」）\n",
    "權益總計.fillna(權益總額, inplace=True)\n",
    "\n",
    "股東權益報酬率 = 稅後淨利.iloc[-1] / 權益總計.iloc[-1]\n",
    "股東權益報酬率.describe()"
   ]
  },
  {
   "cell_type": "markdown",
   "metadata": {},
   "source": [
    "# 條件四：營業利益成長率"
   ]
  },
  {
   "cell_type": "code",
   "execution_count": 12,
   "metadata": {},
   "outputs": [
    {
     "data": {
      "text/plain": [
       "count       801.000000\n",
       "mean       -430.477335\n",
       "std       11941.207268\n",
       "min     -313580.000000\n",
       "25%         -62.345581\n",
       "50%         -13.207170\n",
       "75%          25.081366\n",
       "max       91821.428571\n",
       "dtype: float64"
      ]
     },
     "execution_count": 12,
     "metadata": {},
     "output_type": "execute_result"
    }
   ],
   "source": [
    "# 影片中打錯了，這裡才是對的喔！\n",
    "營業利益 = data.get('營業利益（損失）', 5)\n",
    "營業利益成長率 = (營業利益.iloc[-1] / 營業利益.iloc[-5] - 1) * 100\n",
    "營業利益成長率.describe()"
   ]
  },
  {
   "cell_type": "markdown",
   "metadata": {},
   "source": [
    "# 條件五：市值營收比"
   ]
  },
  {
   "cell_type": "code",
   "execution_count": 13,
   "metadata": {},
   "outputs": [
    {
     "data": {
      "text/plain": [
       "count       824.000000\n",
       "mean        227.567248\n",
       "std        6287.777988\n",
       "min         -19.771431\n",
       "25%           1.996592\n",
       "50%           3.461603\n",
       "75%           6.292128\n",
       "max      180500.268750\n",
       "dtype: float64"
      ]
     },
     "execution_count": 13,
     "metadata": {},
     "output_type": "execute_result"
    }
   ],
   "source": [
    "%matplotlib inline\n",
    "當月營收 = data.get('當月營收', 4) * 1000\n",
    "當季營收 = 當月營收.iloc[-4:].sum() # 取近4個月營收總和，當作一季的月營收（4也可以改變）\n",
    "市值營收比 = 市值 / 當季營收\n",
    "市值營收比.describe()"
   ]
  },
  {
   "cell_type": "markdown",
   "metadata": {},
   "source": [
    "# 結合上述五個條件選股"
   ]
  },
  {
   "cell_type": "code",
   "execution_count": 14,
   "metadata": {},
   "outputs": [
    {
     "data": {
      "text/plain": [
       "stock_id\n",
       "1109    True\n",
       "1231    True\n",
       "1309    True\n",
       "1323    True\n",
       "1414    True\n",
       "1533    True\n",
       "1604    True\n",
       "1608    True\n",
       "1614    True\n",
       "1615    True\n",
       "1701    True\n",
       "1712    True\n",
       "1727    True\n",
       "1730    True\n",
       "1733    True\n",
       "1817    True\n",
       "2028    True\n",
       "2032    True\n",
       "2365    True\n",
       "2401    True\n",
       "2414    True\n",
       "2415    True\n",
       "2430    True\n",
       "2472    True\n",
       "2480    True\n",
       "2493    True\n",
       "2546    True\n",
       "2601    True\n",
       "2636    True\n",
       "2642    True\n",
       "2731    True\n",
       "3029    True\n",
       "3056    True\n",
       "4722    True\n",
       "4755    True\n",
       "4916    True\n",
       "4968    True\n",
       "5515    True\n",
       "6112    True\n",
       "6168    True\n",
       "6281    True\n",
       "8070    True\n",
       "8374    True\n",
       "8940    True\n",
       "9911    True\n",
       "dtype: bool"
      ]
     },
     "execution_count": 14,
     "metadata": {},
     "output_type": "execute_result"
    }
   ],
   "source": [
    "condition1 = (市值 < 10000000000)\n",
    "condition2 = 自由現金流 > 0\n",
    "condition3 = 股東權益報酬率 > 0\n",
    "condition4 = 營業利益成長率 > 0\n",
    "condition5 = 市值營收比 < 5\n",
    "\n",
    "# 將條件做交集（&）\n",
    "select_stock = condition1 & condition2 & condition3 & condition4 & condition5 \n",
    "\n",
    "# 選出的股票\n",
    "select_stock[select_stock]"
   ]
  },
  {
   "cell_type": "markdown",
   "metadata": {},
   "source": [
    "# 綜合上述，優等生策略：mystrategy"
   ]
  },
  {
   "cell_type": "code",
   "execution_count": 3,
   "metadata": {
    "collapsed": true
   },
   "outputs": [],
   "source": [
    "import pandas as pd\n",
    "\n",
    "def mystrategy(data):\n",
    "    \n",
    "    股本 = data.get('股本合計', 1)\n",
    "    price = data.get('收盤價', 120)\n",
    "    當天股價 = price[:股本.index[-1]].iloc[-1]\n",
    "    當天股本 = 股本.iloc[-1]\n",
    "    市值 = 當天股本 * 當天股價 / 10 * 1000\n",
    "   \n",
    "\n",
    "    df1 = toSeasonal(data.get('投資活動之淨現金流入（流出）', 5))\n",
    "    df2 = toSeasonal(data.get('營業活動之淨現金流入（流出）', 5))\n",
    "    自由現金流 = (df1 + df2).iloc[-4:].mean()\n",
    "    \n",
    "    \n",
    "    稅後淨利 = data.get('本期淨利（淨損）', 1)\n",
    "    \n",
    "    # 股東權益，有兩個名稱，有些公司叫做權益總計，有些叫做權益總額\n",
    "    # 所以得把它們抓出來\n",
    "    權益總計 = data.get('權益總計', 1)\n",
    "    權益總額 = data.get('權益總額', 1)\n",
    "    \n",
    "    # 並且把它們合併起來\n",
    "    權益總計.fillna(權益總額, inplace=True)\n",
    "        \n",
    "    股東權益報酬率 = 稅後淨利.iloc[-1] / 權益總計.iloc[-1]\n",
    "    \n",
    "    \n",
    "    營業利益 = data.get('營業利益（損失）', 5)\n",
    "    營業利益成長率 = (營業利益.iloc[-1] / 營業利益.iloc[-5] - 1) * 100\n",
    "    \n",
    "    \n",
    "    當月營收 = data.get('當月營收', 4) * 1000\n",
    "    當季營收 = 當月營收.iloc[-4:].sum()\n",
    "    市值營收比 = 市值 / 當季營收\n",
    "    \n",
    "    \n",
    "    condition1 = (市值 < 1e10)\n",
    "    condition2 = 自由現金流 > 0\n",
    "    condition3 = 股東權益報酬率 > 0\n",
    "    condition4 = 營業利益成長率 > 0\n",
    "    condition5 = 市值營收比 < 5\n",
    "    \n",
    "    select_stock = condition1 & condition2 & condition3 & condition4 & condition5\n",
    "    \n",
    "    return select_stock[select_stock]\n"
   ]
  },
  {
   "cell_type": "markdown",
   "metadata": {},
   "source": [
    "# 回測"
   ]
  },
  {
   "cell_type": "code",
   "execution_count": 4,
   "metadata": {},
   "outputs": [
    {
     "name": "stdout",
     "output_type": "stream",
     "text": [
      "2017-01-01 - 2017-03-02 報酬率 6.74952841159 % nstock 127\n",
      "2017-03-02 - 2017-05-01 報酬率 3.11076319514 % nstock 126\n",
      "2017-05-01 - 2017-06-30 報酬率 2.51216452782 % nstock 102\n",
      "2017-06-30 - 2017-08-29 報酬率 1.77754736697 % nstock 83\n",
      "2017-08-29 - 2017-10-28 報酬率 4.08807603354 % nstock 82\n",
      "2017-10-28 - 2017-12-27 報酬率 4.00637799055 % nstock 82\n",
      "2017-12-27 - 2018-02-25 報酬率 1.13919205955 % nstock 84\n",
      "2018-02-25 - 2018-04-26 報酬率 2.46658684976 % nstock 82\n"
     ]
    },
    {
     "data": {
      "image/png": "[encoded data removed]",
      "text/plain": [
       "<matplotlib.figure.Figure at 0x1113cc780>"
      ]
     },
     "metadata": {},
     "output_type": "display_data"
    }
   ],
   "source": [
    "from finlab.backtest import backtest\n",
    "from finlab.data import Data\n",
    "import datetime\n",
    "\n",
    "%matplotlib inline\n",
    "data = Data()\n",
    "backtest(datetime.date(2017,1,1), datetime.date(2018,3,10), 60, mystrategy, data)"
   ]
  }
 ],
 "metadata": {
  "kernelspec": {
   "display_name": "Python 3",
   "language": "python",
   "name": "python3"
  },
  "language_info": {
   "codemirror_mode": {
    "name": "ipython",
    "version": 3
   },
   "file_extension": ".py",
   "mimetype": "text/x-python",
   "name": "python",
   "nbconvert_exporter": "python",
   "pygments_lexer": "ipython3",
   "version": "3.6.3"
  }
 },
 "nbformat": 4,
 "nbformat_minor": 2
}
