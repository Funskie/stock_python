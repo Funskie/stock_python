{
 "cells": [
  {
   "cell_type": "code",
   "execution_count": 2,
   "metadata": {
    "collapsed": true
   },
   "outputs": [],
   "source": [
    "from finlab.data import Data\n",
    "data = Data()"
   ]
  },
  {
   "cell_type": "code",
   "execution_count": 3,
   "metadata": {
    "collapsed": true
   },
   "outputs": [],
   "source": [
    "import datetime\n",
    "\n",
    "# 將時間回溯到 2017 1 5號當天\n",
    "data.date = datetime.date(2017,1,5)\n",
    "\n",
    "rev = data.get('當月營收', 12)\n",
    "\n",
    "def 股價淨值比(n):\n",
    "    \n",
    "    股東權益 = data.get('歸屬於母公司業主之權益合計', n)\n",
    "    股本 = data.get('普通股股本', n)\n",
    "    price = data.get('收盤價', 100*n)\n",
    "    return price.reindex(股本.index, method='ffill')/(股東權益 / 股本)/10\n",
    "\n",
    "\n",
    "# 當天看到的股價淨值比\n",
    "pb = 股價淨值比(1)"
   ]
  },
  {
   "cell_type": "code",
   "execution_count": 6,
   "metadata": {},
   "outputs": [
    {
     "name": "stdout",
     "output_type": "stream",
     "text": [
      "Index(['1103', '1314', '1471', '1806', '1907', '2038', '2362', '2374', '2380',\n",
      "       '2448', '2516', '2601', '3037', '3481', '3703', '4930', '6142'],\n",
      "      dtype='object', name='stock_id')\n"
     ]
    },
    {
     "data": {
      "text/plain": [
       "<matplotlib.axes._subplots.AxesSubplot at 0x122a16518>"
      ]
     },
     "execution_count": 6,
     "metadata": {},
     "output_type": "execute_result"
    },
    {
     "data": {
      "image/png": "[encoded data removed]",
      "text/plain": [
       "<matplotlib.figure.Figure at 0x122a16fd0>"
      ]
     },
     "metadata": {},
     "output_type": "display_data"
    }
   ],
   "source": [
    "\n",
    "# 時間拉回到一年後\n",
    "data.date = datetime.date(2018,1,5)\n",
    "\n",
    "# 拿出這一年的股價\n",
    "price = data.get('收盤價', 260)\n",
    "\n",
    "# 第一個條件：股價淨值比最近一天（iloc[-1]）小於 0.5\n",
    "condition1 = pb.columns[pb.iloc[-1] < 0.5]\n",
    "\n",
    "# 第二個條件：近三個月平均月營收 > 近一年月營收\n",
    "condition2 = rev.columns[rev.iloc[-3:].mean() > rev.iloc[-12:].mean()]\n",
    "\n",
    "# 交集選出股票\n",
    "print(condition1 & condition2)\n",
    "\n",
    "# 簡易回測（類似於每支股票買一張）\n",
    "%matplotlib inline\n",
    "#price[condition1 & condition2].mean(axis=1).plot()\n",
    "\n",
    "# 簡易回測（類似於將資產平均分散）\n",
    "stock_price = price[condition1 & condition2]\n",
    "(stock_price/stock_price.iloc[0]).mean(axis=1).plot()"
   ]
  }
 ],
 "metadata": {
  "kernelspec": {
   "display_name": "Python 3",
   "language": "python",
   "name": "python3"
  },
  "language_info": {
   "codemirror_mode": {
    "name": "ipython",
    "version": 3
   },
   "file_extension": ".py",
   "mimetype": "text/x-python",
   "name": "python",
   "nbconvert_exporter": "python",
   "pygments_lexer": "ipython3",
   "version": "3.6.3"
  }
 },
 "nbformat": 4,
 "nbformat_minor": 2
}
