{
 "cells": [
  {
   "cell_type": "markdown",
   "metadata": {},
   "source": [
    "# 券商分點\n",
    "\n",
    "這個券商分點可以繞過「圖片認證碼」請大家再三保密使用XD\n",
    "不然哪天就失效了，\n",
    "\n",
    "抓取券商分點，每檔股票總共可以分成三個步驟：\n",
    "1. 開啟驗證碼網頁，得到驗證碼\n",
    "2. 利用驗證碼來得到券商分點\n",
    "3. 整理券商分點資訊"
   ]
  },
  {
   "cell_type": "code",
   "execution_count": 2,
   "metadata": {},
   "outputs": [],
   "source": [
    "# ---------------\n",
    "# 偽裝成瀏覽器\n",
    "# ---------------\n",
    "headers = {\n",
    "    'User-Agent':'Mozilla/5.0 (Windows NT 6.1; WOW64; rv:2.0.1) Gecko/2010010' \\\n",
    "    '1 Firefox/4.0.1',\n",
    "    'Accept':'text/html,application/xhtml+xml,application/xml;q=0.9,*/*;q=0.8',\n",
    "    'Accept-Language':'en-us,en;q=0.5',\n",
    "    'Accept-Charset':'ISO-8859-1,utf-8;q=0.7,*;q=0.7'}"
   ]
  },
  {
   "cell_type": "markdown",
   "metadata": {},
   "source": [
    "# 1. 開啟驗證碼網頁，得到驗證碼\n",
    "這邊的驗證碼不是「圖片驗證碼喔！」而是 `viewstate` 跟 `eventvalidation`"
   ]
  },
  {
   "cell_type": "code",
   "execution_count": 6,
   "metadata": {},
   "outputs": [
    {
     "name": "stdout",
     "output_type": "stream",
     "text": [
      "----\n",
      "viewstate /wEPDwUJOTAxMjkxMjg3D2QWAgIDD2QWBAIBD2QWAmYPZBYEZg9kFgJmDxAPFgYeB0NoZWNrZWRnHglGb3JlQ29sb3IKAB4EXyFTQgIEZGRkZAIBD2QWAgIBDw8WBB8BCgAfAgIEZGQCAw9kFgQCAw8PFgIeBFRleHRlZGQCCQ8PFgIeB1Zpc2libGVoZGQYAgUeX19Db250cm9sc1JlcXVpcmVQb3N0QmFja0tleV9fFgMFElJhZGlvQnV0dG9uX05vcm1hbAUQUmFkaW9CdXR0b25fRXhjZAUQUmFkaW9CdXR0b25fRXhjZAUPQ2FwdGNoYUNvbnRyb2wxDwUkMWQzY2RhYTYtNzE0YS00NjhiLTg4NzgtYzY0ZDE3ZjNiZDI2ZMpvSf1tcZC6GZQ5nfa8aPY=\n",
      "----\n",
      "eventvalidation /wEdAAYlzbq6Zytuh63xi01PqkaVfMmuxAJNAJcNkRRsVeJwwqKURZav/+YrVMqaWE2hvMxJwK4Ohf3nRgXHkFhQen1PRSciNdPYWmINCrip1wqw01PJCA0uL9aE2sjICZqv6GolupMMH5m3bSC97WVogYv9\n",
      "----\n"
     ]
    }
   ],
   "source": [
    "# ---------------\n",
    "# 開啟有驗證碼的網頁\n",
    "# ---------------\n",
    "import requests\n",
    "rs = requests.session()\n",
    "\n",
    "def get_verify_code(rs):\n",
    "    res = rs.get( 'http://bsr.twse.com.tw/bshtm/bsMenu.aspx', stream = True, verify = False, headers = headers, timeout=None )\n",
    "    # ---------------\n",
    "    # 從網頁中抓取一些關鍵字\n",
    "    # ---------------\n",
    "    import re\n",
    "    \n",
    "    # get view state\n",
    "    viewstate = re.search( 'VIEWSTATE\"\\s+value=.*=', res.text )\n",
    "    viewstate = viewstate.group()[18:]\n",
    "    \n",
    "    # get eventvalidation\n",
    "    eventvalidation = re.search( 'EVENTVALIDATION\"\\s+value=.*\\w', res.text )\n",
    "    eventvalidation = eventvalidation.group( )[ 24: ]\n",
    "    \n",
    "    return viewstate, eventvalidation\n",
    "\n",
    "viewstate, eventvalidation = get_verify_code(rs)\n",
    "\n",
    "print('----')\n",
    "print('viewstate', viewstate)\n",
    "print('----')\n",
    "print('eventvalidation',eventvalidation)\n",
    "print('----')"
   ]
  },
  {
   "cell_type": "markdown",
   "metadata": {},
   "source": [
    "# 2. 透過驗證碼爬取資料並存檔"
   ]
  },
  {
   "cell_type": "code",
   "execution_count": 7,
   "metadata": {},
   "outputs": [
    {
     "data": {
      "text/plain": [
       "34127"
      ]
     },
     "execution_count": 7,
     "metadata": {},
     "output_type": "execute_result"
    }
   ],
   "source": [
    "# ---------------\n",
    "# 爬取資料\n",
    "# ---------------\n",
    "\n",
    "def get_data(rs, stock_id, viewstate, eventvalidation):\n",
    "    import time\n",
    "    payload = {\n",
    "    '__EVENTTARGET':'',\n",
    "    '__EVENTARGUMENT':'',\n",
    "    '__LASTFOCUS':'',\n",
    "    '__VIEWSTATE' : viewstate,                      #encode_viewstate[:-1],\n",
    "    '__EVENTVALIDATION' : eventvalidation,          #encode_eventvalidation[:-1],\n",
    "    'RadioButton_Normal' : 'RadioButton_Normal',\n",
    "    'TextBox_Stkno' : stock_id,\n",
    "    'CaptchaControl1 ' : 'Z67YB',\n",
    "    'btnOK' : '%E6%9F%A5%E8%A9%A2',\n",
    "    }\n",
    "\n",
    "    rs.post( \"http://bsr.twse.com.tw/bshtm/bsMenu.aspx\", data=payload, headers=headers)#, verify = False, stream = True )\n",
    "    time.sleep(1)\n",
    "    res = rs.get( 'http://bsr.twse.com.tw/bshtm/bsContent.aspx')#,verify = False ,stream = True, )\n",
    "    return res\n",
    "\n",
    "res = get_data(rs, '1101', viewstate, eventvalidation)\n",
    "res.encoding='big5'\n",
    "open('test.html', 'w', encoding='utf-8').write(res.text)"
   ]
  },
  {
   "cell_type": "markdown",
   "metadata": {},
   "source": [
    "# 3. 整理資料"
   ]
  },
  {
   "cell_type": "code",
   "execution_count": 8,
   "metadata": {},
   "outputs": [],
   "source": [
    "import pandas as pd\n",
    "from io import StringIO\n",
    "\n",
    "def parse_data(text):\n",
    "    lines = text.split('\\n')\n",
    "    lines = [l for l in lines if len(l.split(',')) == 11]\n",
    "    df = pd.read_csv(StringIO('\\n'.join(lines)))\n",
    "\n",
    "    first_df = df[df.columns[:5]]\n",
    "    second_df = df[df.columns[6:]]\n",
    "    second_df.columns = second_df.columns.str.replace('.1', '')\n",
    "    final_df = first_df.append(second_df).set_index('序號').sort_index().dropna()\n",
    "    return final_df\n",
    "\n",
    "\n",
    "df = parse_data(res.text)"
   ]
  },
  {
   "cell_type": "markdown",
   "metadata": {},
   "source": [
    "# 完整下載範例（每天來按一下）"
   ]
  },
  {
   "cell_type": "markdown",
   "metadata": {},
   "source": [
    "假如無法下載，可以參考\n",
    "http://finlabcourse.imotor.com/viewthread.php?tid=322&extra=page%3D1&page=3\n",
    "來做一些更動，就可以順利執行了～"
   ]
  },
  {
   "cell_type": "code",
   "execution_count": null,
   "metadata": {},
   "outputs": [],
   "source": [
    "import time\n",
    "import requests\n",
    "from io import StringIO\n",
    "import pandas as pd\n",
    "import datetime\n",
    "\n",
    "headers = {\n",
    "    'User-Agent':'Mozilla/5.0 (Windows NT 6.1; WOW64; rv:2.0.1) Gecko/2010010' \\\n",
    "    '1 Firefox/4.0.1',\n",
    "    'Accept':'text/html,application/xhtml+xml,application/xml;q=0.9,*/*;q=0.8',\n",
    "    'Accept-Language':'en-us,en;q=0.5',\n",
    "    'Accept-Charset':'ISO-8859-1,utf-8;q=0.7,*;q=0.7'}\n",
    "\n",
    "def get_data(rs, stock_id, viewstate, eventvalidation):\n",
    "    import time\n",
    "    payload = {\n",
    "    '__EVENTTARGET':'',\n",
    "    '__EVENTARGUMENT':'',\n",
    "    '__LASTFOCUS':'',\n",
    "    '__VIEWSTATE' : viewstate,                      #encode_viewstate[:-1],\n",
    "    '__EVENTVALIDATION' : eventvalidation,          #encode_eventvalidation[:-1],\n",
    "    'RadioButton_Normal' : 'RadioButton_Normal',\n",
    "    'TextBox_Stkno' : stock_id,\n",
    "    'CaptchaControl1 ' : 'Z67YB',\n",
    "    'btnOK' : '%E6%9F%A5%E8%A9%A2',\n",
    "    }\n",
    "\n",
    "    rs.post( \"http://bsr.twse.com.tw/bshtm/bsMenu.aspx\", data=payload, headers=headers)#, verify = False, stream = True )\n",
    "    time.sleep(1)\n",
    "    res = rs.get( 'http://bsr.twse.com.tw/bshtm/bsContent.aspx')#,verify = False ,stream = True, )\n",
    "    return res\n",
    "\n",
    "def get_verify_code(rs):\n",
    "    res = rs.get( 'http://bsr.twse.com.tw/bshtm/bsMenu.aspx', stream = True, verify = False, headers = headers, timeout=None )\n",
    "    # ---------------\n",
    "    # 從網頁中抓取一些關鍵字\n",
    "    # ---------------\n",
    "    import re\n",
    "    \n",
    "    # get view state\n",
    "    viewstate = re.search( 'VIEWSTATE\"\\s+value=.*=', res.text )\n",
    "    viewstate = viewstate.group()[18:]\n",
    "    \n",
    "    # get eventvalidation\n",
    "    eventvalidation = re.search( 'EVENTVALIDATION\"\\s+value=.*\\w', res.text )\n",
    "    eventvalidation = eventvalidation.group( )[ 24: ]\n",
    "    \n",
    "    return viewstate, eventvalidation\n",
    "\n",
    "def download_stock(stock_id, path):\n",
    "    rs = requests.Session()\n",
    "    #viewstate, eventvalidation = get_verify_code(rs)\n",
    "    \n",
    "    while True:\n",
    "        try:\n",
    "            viewstate, eventvalidation = get_verify_code(rs)\n",
    "            break # 抓資料成功,進行下一步\n",
    "        except Exception as e:\n",
    "            print(e) # 印出無法連線原因\n",
    "            print('無法拿到資料, 等 31 sec') # server好像會擋30sec\n",
    "            time.sleep(31)\n",
    "            continue # 抓資料失敗,重新抓資料\n",
    "    \n",
    "    time.sleep(2)\n",
    "    res = get_data(rs, stock_id, viewstate, eventvalidation)\n",
    "    res.encoding='big5'\n",
    "    open(path, 'w', encoding='utf-8').writelines(res.text)\n",
    "    \n",
    "def stock_list():\n",
    "    res = requests.get('http://dts.twse.com.tw/opendata/t187ap03_L.csv')\n",
    "    res.encoding='big5'\n",
    "    df = pd.read_csv(StringIO(res.text), index_col=['公司代號'])\n",
    "    return df\n",
    "\n",
    "import os\n",
    "\n",
    "# build main dir\n",
    "main_dir = os.path.join('data', 'broker_history')\n",
    "if not os.path.isdir(main_dir):\n",
    "    os.mkdir(main_dir)\n",
    "    \n",
    "# build date dir\n",
    "now = datetime.datetime.now()\n",
    "date_dir = os.path.join(main_dir, now.strftime('%Y%m%d'))\n",
    "if not os.path.isdir(date_dir):\n",
    "    os.mkdir(date_dir)\n",
    "\n",
    "    \n",
    "slist = stock_list()\n",
    "for s in slist.index:\n",
    "    stock_path = os.path.join(date_dir, str(s) + '.csv')\n",
    "    print(stock_path)\n",
    "    if not os.path.isfile(stock_path):\n",
    "        print('downloading...')\n",
    "        download_stock(str(s), stock_path)\n",
    "        time.sleep(10)\n",
    "    "
   ]
  },
  {
   "cell_type": "markdown",
   "metadata": {},
   "source": [
    "# 券商總買賣"
   ]
  },
  {
   "cell_type": "code",
   "execution_count": 11,
   "metadata": {},
   "outputs": [
    {
     "data": {
      "text/plain": [
       "券商\n",
       "1020合　　庫        4000\n",
       "1021合庫台中        1000\n",
       "1022合庫台南        1000\n",
       "1023合庫高雄           0\n",
       "1024合庫嘉義       -7000\n",
       "102C合庫自強        5000\n",
       "1032土銀台南        2000\n",
       "1040臺    銀    283000\n",
       "1041臺銀鳳山      -13100\n",
       "1042臺銀臺南        3000\n",
       "1043臺銀民權        1000\n",
       "1045臺銀新竹      -10000\n",
       "104A臺銀臺中       20000\n",
       "104C臺銀高雄        2650\n",
       "104D臺銀金山       -8000\n",
       "1116企銀屏東       -1000\n",
       "111G企銀埔墘       -1000\n",
       "1160日    盛    -21000\n",
       "1161日盛忠孝        1000\n",
       "1163日盛台中      -13500\n",
       "1165日盛板橋        2000\n",
       "1166日盛雙和        1000\n",
       "1168日盛高雄        1000\n",
       "1169日盛士林        4815\n",
       "116A日盛木柵        1000\n",
       "116C日盛八德       21000\n",
       "116F日盛員林       -5000\n",
       "116G日盛景美        5000\n",
       "116I日盛南京       -2000\n",
       "116L日盛大墩        1000\n",
       "               ...  \n",
       "989Z元大小港     -129000\n",
       "989e元大中和       42000\n",
       "989j元大樹林       -1000\n",
       "989k元大古亭        2000\n",
       "989m元大信義       -1000\n",
       "9A00永豐金      -824000\n",
       "9A8F永豐敦南      -20000\n",
       "9A91永豐松山        8000\n",
       "9A93永豐大稻       -4000\n",
       "9A96永豐博愛        2000\n",
       "9A98永豐大園         100\n",
       "9A99永豐中壢        2000\n",
       "9A9C永豐員林        3000\n",
       "9A9G永豐天母        8000\n",
       "9A9K永豐三重        -400\n",
       "9A9L永豐台中        2000\n",
       "9A9N永豐桃盛        1000\n",
       "9A9U永豐中正       -3000\n",
       "9A9V永豐三民        2000\n",
       "9A9X永豐竹科        2000\n",
       "9A9Z永豐復興        5000\n",
       "9A9a永豐苓雅           0\n",
       "9A9c永豐永康        1000\n",
       "9A9d永豐古亭           0\n",
       "9A9e永豐高雄        1000\n",
       "9A9f永豐中盛        2000\n",
       "9A9g永豐內湖        8000\n",
       "9A9r永豐北高       -2000\n",
       "9A9v永豐光復        2000\n",
       "9A9x永豐桃園       -4000\n",
       "Length: 447, dtype: int64"
      ]
     },
     "execution_count": 11,
     "metadata": {},
     "output_type": "execute_result"
    }
   ],
   "source": [
    "buy = df['買進股數'].astype(int).groupby(df['券商']).sum()\n",
    "sell= df['賣出股數'].astype(int).groupby(df['券商']).sum()\n",
    "total = buy - sell\n",
    "total"
   ]
  },
  {
   "cell_type": "markdown",
   "metadata": {},
   "source": [
    "# 主力買賣超"
   ]
  },
  {
   "cell_type": "code",
   "execution_count": 13,
   "metadata": {},
   "outputs": [
    {
     "data": {
      "text/plain": [
       "券商\n",
       "1440美林        806000\n",
       "9200凱基        465000\n",
       "1380台灣匯立      454000\n",
       "1480美商高盛      444000\n",
       "8960上海匯豐      422000\n",
       "8440摩根大通      393000\n",
       "9307華南大安      320000\n",
       "1470台灣摩根      318000\n",
       "1040臺    銀    283000\n",
       "8560新    光    270000\n",
       "9813元大八德      160000\n",
       "5850統    一    150000\n",
       "9695富邦民雄      140000\n",
       "981N元大金門      112000\n",
       "8840玉    山    100000\n",
       "dtype: int64"
      ]
     },
     "execution_count": 13,
     "metadata": {},
     "output_type": "execute_result"
    }
   ],
   "source": [
    "# 買方top 15\n",
    "total.nlargest(15)"
   ]
  },
  {
   "cell_type": "code",
   "execution_count": 162,
   "metadata": {},
   "outputs": [
    {
     "data": {
      "text/plain": [
       "券商\n",
       "8440摩根大通     -3093000\n",
       "1590花旗環球     -1979000\n",
       "8880國泰綜合     -1769000\n",
       "9200凱基       -1497000\n",
       "9800元大        -958000\n",
       "9300華南永昌      -889000\n",
       "9131群益民權      -355000\n",
       "8580聯    邦    -340000\n",
       "8840玉    山    -315000\n",
       "779c國票敦北      -254000\n",
       "6450永    全    -250000\n",
       "1233彰銀台中      -240000\n",
       "7001兆豐嘉義      -186000\n",
       "5600永    興    -123000\n",
       "9211凱基台南      -104000\n",
       "dtype: int64"
      ]
     },
     "execution_count": 162,
     "metadata": {},
     "output_type": "execute_result"
    }
   ],
   "source": [
    "# 賣方 top 15\n",
    "total.nsmallest(15)"
   ]
  },
  {
   "cell_type": "code",
   "execution_count": 166,
   "metadata": {},
   "outputs": [
    {
     "data": {
      "text/plain": [
       "-559605"
      ]
     },
     "execution_count": 166,
     "metadata": {},
     "output_type": "execute_result"
    }
   ],
   "source": [
    "# 主力買賣超\n",
    "total.nlargest(15).sum() + total.nsmallest(15).sum()"
   ]
  },
  {
   "cell_type": "markdown",
   "metadata": {},
   "source": [
    "# 買賣家數差"
   ]
  },
  {
   "cell_type": "code",
   "execution_count": 164,
   "metadata": {},
   "outputs": [
    {
     "data": {
      "text/plain": [
       "45"
      ]
     },
     "execution_count": 164,
     "metadata": {},
     "output_type": "execute_result"
    }
   ],
   "source": [
    "# 買賣家數差\n",
    "(total > 0).sum() - (total < 0).sum()"
   ]
  }
 ],
 "metadata": {
  "kernelspec": {
   "display_name": "Python 3",
   "language": "python",
   "name": "python3"
  },
  "language_info": {
   "codemirror_mode": {
    "name": "ipython",
    "version": 3
   },
   "file_extension": ".py",
   "mimetype": "text/x-python",
   "name": "python",
   "nbconvert_exporter": "python",
   "pygments_lexer": "ipython3",
   "version": "3.6.3"
  }
 },
 "nbformat": 4,
 "nbformat_minor": 2
}
