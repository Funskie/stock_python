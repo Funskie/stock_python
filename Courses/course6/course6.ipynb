{
 "cells": [
  {
   "cell_type": "markdown",
   "metadata": {},
   "source": [
    "### 網頁爬蟲\n",
    "今天我們先教最簡單的一種，之後我們會碰到各種不同的情況，\n",
    "今天這招幾乎可以破解60%以上的網頁\n",
    "\n",
    "首先我們要先import requests，可以把它想像成是瀏覽器"
   ]
  },
  {
   "cell_type": "code",
   "execution_count": 1,
   "metadata": {
    "collapsed": true
   },
   "outputs": [],
   "source": [
    "import requests\n",
    "res = requests.get('http://www.wibibi.com/info.php?tid=116')"
   ]
  },
  {
   "cell_type": "markdown",
   "metadata": {},
   "source": [
    "### 網頁代碼\n",
    "取得網頁的原始碼"
   ]
  },
  {
   "cell_type": "code",
   "execution_count": 2,
   "metadata": {},
   "outputs": [
    {
     "data": {
      "text/plain": [
       "'ï»¿<!DOCTYPE HTML PUBLIC \"-//W3C//DTD HTML 4.01 Transitional//EN\"\\n\"http://www.w3.org/TR/html4/loose.dtd\">\\n<html>\\n<head>\\n<title>HTML Table è¡¨æ\\xa0¼ - Wibibi</title>\\n<meta http-equiv=\"Content-Type\" content=\"text/html; charset=utf-8\">\\n<meta name=\"description\" content=\"HTML ç¶²é\\xa0\\x81è¨\\xadè¨\\x88ä¸\\x8då\\x8f¯æ\\x88\\x96ç¼ºç\\x9a\\x84å\\x85\\x83ç´\\xa0å°±æ\\x98¯è¡¨æ\\xa0¼ï¼\\x88Tableï¼\\x89ï¼\\x8cé\\x80\\x9aå¸¸è¡¨æ\\xa0¼ç\\x94¨ä¾\\x86å\\x81\\x9aç\\x89\\x88é\\x9d¢ç\\x9a\\x84æ\\x8e\\x92ç\\x89\\x88ï¼\\x8cè\\x80\\x8cè¡¨æ\\xa0¼ç\\x9a\\x84ç\\x94¨æ³\\x95å\\x8c\\x85å\\x90«äº\\x86å¹¾å\\x80\\x8bé\\x87\\x8dè¦\\x81ç\\x9a\\x84æ¨\\x99ç±¤ï¼\\x8cå\\x88\\x86å\\x88¥æ\\x98¯ tableã\\x80\\x81tr è\\x88\\x87 td é\\x80\\x99å¹¾å\\x80\\x8bé\\x87\\x8dé»\\x9eï¼\\x8cçµ\\x84å\\x90\\x88èµ·ä¾\\x86æ\\x89\\x8dæ\\x98¯\">\\n<meta name=\"keywords\" content=\"HTML,Table,è¡¨æ\\xa0¼\">\\n<meta name=\"viewport\" content=\"width=device-width, initial-scale=1.0\">\\n<link href=\"css/main.css\" rel=\"stylesheet\" type=\"text/css\" media=\"(min-width:641px)\" />\\n<link href=\"css/main_small.css\" rel=\"stylesheet\" type=\"text/css\" media=\"(max-width:640px)\" />\\n<link href=\"css/info.css\" rel=\"stylesheet\" type=\"text/css\" media=\"(min-width:641px)\" />\\n<link href=\"css/info_small.css\" rel=\"stylesheet\" type=\"text/css\" media=\"(max-width:640px)\" />\\n<link rel=\"shortcut icon\" href=\"favicon.ico\" >\\n</head>\\n<body>\\n<div id=\\'HeaderBox\\'>\\n\\t<div id=\\'SiteLogo\\'><a href=\\'/\\'><img src=\\'images/logo.png\\' border=\\'0\\'></a></div>\\n\\t<div id=\"toggle\"><img src=\"images/ControlMenuIcon.png\"></div>\\n\\t<div id=\"SearchBox\">\\n\\n<script>\\n  (function() {\\n    var cx = \\'partner-pub-5633897948803345:8240044338\\';\\n    var gcse = document.createElement(\\'script\\');\\n    gcse.type = \\'text/javascript\\';\\n    gcse.async = true;\\n    gcse.src = (document.location.protocol == \\'https:\\' ? \\'https:\\' : \\'http:\\') +\\n        \\'//cse.google.com/cse.js?cx=\\' + cx;\\n    var s = document.getElementsByTagName(\\'script\\')[0];\\n    s.parentNode.insertBefore(gcse, s);\\n  })();\\n</script>\\n<gcse:searchbox-only></gcse:searchbox-only>\\n\\n\\t</div>\\n\\t<div style=\"clear:both;\"></div>\\n</div>\\n<div id=\\'Menu\\'>\\n\\t<ul>\\n\\t<li><a href=\\'/\\'>é¦\\x96é\\xa0\\x81</a></li>\\n\\t\\t<li><a href=\\'c.php?cid=9\\'>HTML</a></li>\\n\\t\\t<li><a href=\\'c.php?cid=20\\'>HTML5</a></li>\\n\\t\\t<li><a href=\\'c.php?cid=5\\'>PHP</a></li>\\n\\t\\t<li><a href=\\'c.php?cid=19\\'>MySQL</a></li>\\n\\t\\t<li><a href=\\'c.php?cid=7\\'>CSS</a></li>\\n\\t\\t<li><a href=\\'c.php?cid=21\\'>CSS3</a></li>\\n\\t\\t<li><a href=\\'c.php?cid=10\\'>JavaScript</a></li>\\n\\t\\t<li><a href=\\'c.php?cid=18\\'>è»\\x9fé«\\x94ä»\\x8bç´¹</a></li>\\n\\t\\t<li><a href=\\'c.php?cid=14\\'>å\\x85¶å®\\x83</a></li>\\n\\t\\t<li><a href=\\'https://twnoc.net/whmcs/aff.php?aff=1099\\' rel=\"nofollow\" target=\"_blank\">é\\x81\\xa0æ\\x8c¯è³\\x87è¨\\x8aè\\x99\\x9bæ\\x93¬ä¸»æ©\\x9f</a></li>\\n\\t<div style=\\'clear:both;\\'></div>\\n\\t</ul>\\n</div><div id=\\'navi\\'><a href=\\'/\\'>Home</a> &nbsp;â\\x80º&nbsp; <a href=\\'c.php?cid=9\\'>HTML</a> &nbsp;â\\x80º&nbsp; HTML Table è¡¨æ\\xa0¼</div>\\n<div id=\"container\">\\n\\t<div id=\\'MainShow\\'>\\n\\t\\t<h1>HTML Table è¡¨æ\\xa0¼</h1>\\n\\t\\t<!--å\\x8e\\x9fç\\x94\\x9f_æ\\x96\\x87ç«\\xa0å\\x85§ç½®_1 Start-->\\n\\t\\t<div id=\"Ads1\">\\n\\t\\t\\t\\t\\n\\t\\t<script async src=\"//pagead2.googlesyndication.com/pagead/js/adsbygoogle.js\"></script>\\n\\t\\t<ins class=\"adsbygoogle\"\\n\\t\\t\\t style=\"display:block; text-align:center;\"\\n\\t\\t\\t data-ad-format=\"fluid\"\\n\\t\\t\\t data-ad-layout=\"in-article\"\\n\\t\\t\\t data-ad-client=\"ca-pub-5633897948803345\"\\n\\t\\t\\t data-ad-slot=\"1174116920\"></ins>\\n\\t\\t<script>\\n\\t\\t\\t (adsbygoogle = window.adsbygoogle || []).push({});\\n\\t\\t</script>\\n\\t\\t\\n\\t\\t\\t\\t</div>\\n\\t\\t<!--å\\x8e\\x9fç\\x94\\x9f_æ\\x96\\x87ç«\\xa0å\\x85§ç½®_1 End-->\\n\\t\\t<div id=\\'content\\'>HTML ç¶²é\\xa0\\x81è¨\\xadè¨\\x88ä¸\\x8då\\x8f¯æ\\x88\\x96ç¼ºç\\x9a\\x84å\\x85\\x83ç´\\xa0å°±æ\\x98¯è¡¨æ\\xa0¼ï¼\\x88Tableï¼\\x89ï¼\\x8cé\\x80\\x9aå¸¸è¡¨æ\\xa0¼ç\\x94¨ä¾\\x86å\\x81\\x9aç\\x89\\x88é\\x9d¢ç\\x9a\\x84æ\\x8e\\x92ç\\x89\\x88ï¼\\x8cè\\x80\\x8cè¡¨æ\\xa0¼ç\\x9a\\x84ç\\x94¨æ³\\x95å\\x8c\\x85å\\x90«äº\\x86å¹¾å\\x80\\x8bé\\x87\\x8dè¦\\x81ç\\x9a\\x84æ¨\\x99ç±¤ï¼\\x8cå\\x88\\x86å\\x88¥æ\\x98¯ tableã\\x80\\x81tr è\\x88\\x87 td é\\x80\\x99å¹¾å\\x80\\x8bé\\x87\\x8dé»\\x9eï¼\\x8cçµ\\x84å\\x90\\x88èµ·ä¾\\x86æ\\x89\\x8dæ\\x98¯å\\x80\\x8bå®\\x8cæ\\x95´ç\\x9a\\x84è¡¨æ\\xa0¼ï¼\\x8cä»¥ä¸\\x8bå\\x81\\x9aå\\x80\\x8bç°¡å\\x96®ç\\x9a\\x84è¡¨æ\\xa0¼ç¯\\x84ä¾\\x8bã\\x80\\x82<div id=\"CodeBox\">&lt;table border=\"1\"&gt;<br>ã\\x80\\x80&lt;tr&gt;<br>ã\\x80\\x80&lt;td&gt;é\\x80\\x99è£¡å\\x8f¯ä»¥æ\\x94¾è¡¨æ\\xa0¼å\\x85§å®¹&lt;/td&gt;<br>ã\\x80\\x80&lt;/tr&gt;<br>&lt;/table&gt;<br></div>å\\x91\\x88ç\\x8f¾çµ\\x90æ\\x9e\\x9cå¦\\x82ä¸\\x8b<br><table border=\"1\"><tbody><tr><td>é\\x80\\x99è£¡å\\x8f¯ä»¥æ\\x94¾è¡¨æ\\xa0¼å\\x85§å®¹</td></tr></tbody></table><br>ç¯\\x84ä¾\\x8bä¸\\xadä½¿ç\\x94¨äº\\x86&lt;table&gt; è\\x88\\x87 &lt;/table&gt; ç\\x9a\\x84æ¨\\x99ç±¤æ\\x8a\\x8aå\\x85§å®¹å\\x8c\\x85èµ·ä¾\\x86ï¼\\x8c&lt;tr&gt;&lt;/tr&gt; æ¨\\x99ç±¤ä»£è¡¨ç\\x9a\\x84æ\\x98¯ä¸\\x80è¡\\x8cï¼\\x8cè\\x80\\x8c &lt;td&gt;&lt;/td&gt; æ¨\\x99ç±¤å\\x89\\x87ä»£è¡¨ä¸\\x80å\\x88\\x97ï¼\\x8cç\\x82ºäº\\x86æ¸\\x85æ¥\\x9aå\\x91\\x88ç\\x8f¾ï¼\\x8cæ\\x88\\x91å\\x80\\x91é\\x82\\x84ç\\x82º table å\\x8a\\xa0ä¸\\x8aäº\\x86 border=\"1\" ç\\x9a\\x84è¨\\xadå®\\x9aï¼\\x8cé\\x80\\x99ä»£è¡¨é\\x80\\x99å\\x80\\x8b table ç\\x9a\\x84é\\x82\\x8aæ¡\\x86ç²\\x97ç´°æ\\x98¯ 1ï¼\\x8cå\\x9c¨å¯¦é\\x9a\\x9bä½¿ç\\x94¨ä¸\\x8aä½\\xa0ä¹\\x9få\\x8f¯ä»¥è¨\\xadå®\\x9aç\\x82ºå\\x85¶å®\\x83ç\\x9a\\x84å\\x80¤ï¼\\x8cä¾\\x8bå¦\\x82 border=\"0\" å\\x89\\x87ä¸\\x8dæ\\x9c\\x83é¡¯ç¤ºé\\x82\\x8aæ¡\\x86ã\\x80\\x82è«\\x8bæ³¨æ\\x84\\x8f HTML èª\\x9eæ³\\x95é\\x83½å¿\\x85é\\xa0\\x88ç\\x94¨ä¸\\x80å\\x80\\x8bé\\x96\\x8bå§\\x8bæ¨\\x99ç±¤è\\x88\\x87ä¸\\x80å\\x80\\x8bçµ\\x90æ\\x9d\\x9fæ¨\\x99ç±¤æ\\x8a\\x8aå\\x85§å®¹å\\x8c\\x85èµ·ä¾\\x86ï¼\\x8cé\\x96\\x8bå§\\x8bæ¨\\x99ç±¤è\\x88\\x87çµ\\x90æ\\x9d\\x9fæ¨\\x99ç±¤æ\\x98¯å°\\x8dç\\xad\\x89ç\\x9a\\x84ï¼\\x8cç¼ºä¸\\x80ä¸\\x8då\\x8f¯ã\\x80\\x82<br><br>é\\x99¤äº\\x86å\\x8f¯ä»¥å¯«ä¸\\x80å\\x80\\x8bå\\x96®ç´\\x94ç\\x9a\\x84è¡¨æ\\xa0¼ä¹\\x8bå¤\\x96ï¼\\x8cæ\\x88\\x91å\\x80\\x91é\\x82\\x84å\\x8f¯ä»¥è¨\\xadå®\\x9a table ç\\x9a\\x84å¯¬åº¦ã\\x80\\x81é«\\x98åº¦æ\\x88\\x96é\\x82\\x8aæ¡\\x86æ¨£å¼\\x8fï¼\\x8cè¦\\x81å\\x81\\x9aé\\x80\\x99äº\\x9bè¨\\xadå®\\x9aï¼\\x8cä½\\xa0å¿\\x85é\\xa0\\x88å\\x85\\x88äº\\x86è§£å¹¾å\\x80\\x8bè\\x83½å¤\\xa0æ\\x8e§å\\x88¶è¡¨æ\\xa0¼ç\\x9a\\x84å\\x85\\x83ç´\\xa0ï¼\\x8cä¾\\x8bå¦\\x82 widthã\\x80\\x81borderã\\x80\\x81background ... ç\\xad\\x89ã\\x80\\x82<br><ul><li>widthï¼\\x9aæ\\x8e§å\\x88¶ table ç\\x9a\\x84å¯¬åº¦</li><li>borderï¼\\x9aæ\\x8e§å\\x88¶ table é\\x82\\x8aæ¡\\x86ç\\x9a\\x84ç²\\x97ç´°</li><li>backgroundï¼\\x9aæ\\x8e§å\\x88¶è\\x83\\x8cæ\\x99¯å\\x9c\\x96ç\\x89\\x87</li><li>colspanï¼\\x9aæ\\x8e§å\\x88¶å\\x84²å\\xad\\x98æ\\xa0¼æ©«è·¨å¹¾å\\x80\\x8bæ¬\\x84ä½\\x8d</li><li>rowspanï¼\\x9aæ\\x8e§å\\x88¶å\\x84²å\\xad\\x98æ\\xa0¼å\\x9e\\x82ç\\x9b´è·¨å¹¾å\\x80\\x8bæ¬\\x84ä½\\x8d<br></li></ul>æ\\x8e¥è\\x91\\x97æ\\x88\\x91å\\x80\\x91å¯«å¹¾å\\x80\\x8bç¯\\x84ä¾\\x8b<br><br>å\\x85©å\\x80\\x8bæ¬\\x84ä½\\x8dç\\x9a\\x84 table è¡¨æ\\xa0¼ç¯\\x84ä¾\\x8b<br><div id=\"CodeBox\">&lt;table width=\"300\" border=\"1\"&gt;<br>ã\\x80\\x80&lt;tr&gt;<br>ã\\x80\\x80&lt;td&gt;é\\x80\\x99è£¡æ\\x98¯ç¬¬ä¸\\x80å\\x80\\x8bæ¬\\x84ä½\\x8d&lt;/td&gt;<br>ã\\x80\\x80&lt;td&gt;é\\x80\\x99è£¡æ\\x98¯ç¬¬äº\\x8cå\\x80\\x8bæ¬\\x84ä½\\x8d&lt;/td&gt;<br>ã\\x80\\x80&lt;/tr&gt;<br>&lt;/table&gt;<br></div>å\\x91\\x88ç\\x8f¾çµ\\x90æ\\x9e\\x9cå¦\\x82ä¸\\x8b<br><table width=\"300\" border=\"1\"><tbody><tr><td>é\\x80\\x99è£¡æ\\x98¯ç¬¬ä¸\\x80å\\x80\\x8bæ¬\\x84ä½\\x8d</td><td>é\\x80\\x99è£¡æ\\x98¯ç¬¬äº\\x8cå\\x80\\x8bæ¬\\x84ä½\\x8d</td></tr></tbody></table><br><br>å\\x85©è¡\\x8cå\\x85©æ¬\\x84ä½\\x8dç\\x9a\\x84 Table è¡¨æ\\xa0¼ç¯\\x84ä¾\\x8b<div id=\"CodeBox\">&lt;table border=\"1\"&gt;<br>ã\\x80\\x80&lt;tr&gt;<br>ã\\x80\\x80&lt;td&gt;é\\x80\\x99è£¡æ\\x98¯ç¬¬ä¸\\x80è¡\\x8cç\\x9a\\x84ç¬¬ä¸\\x80å\\x80\\x8bæ¬\\x84ä½\\x8d&lt;/td&gt;<br>ã\\x80\\x80&lt;td&gt;é\\x80\\x99è£¡æ\\x98¯ç¬¬ä¸\\x80è¡\\x8cç\\x9a\\x84ç¬¬äº\\x8cå\\x80\\x8bæ¬\\x84ä½\\x8d&lt;/td&gt;<br>ã\\x80\\x80&lt;/tr&gt;<br>ã\\x80\\x80&lt;tr&gt;<br>ã\\x80\\x80&lt;td&gt;é\\x80\\x99è£¡æ\\x98¯ç¬¬äº\\x8cè¡\\x8cç\\x9a\\x84ç¬¬ä¸\\x80å\\x80\\x8bæ¬\\x84ä½\\x8d&lt;/td&gt;<br>ã\\x80\\x80&lt;td&gt;é\\x80\\x99è£¡æ\\x98¯ç¬¬äº\\x8cè¡\\x8cç\\x9a\\x84ç¬¬äº\\x8cå\\x80\\x8bæ¬\\x84ä½\\x8d&lt;/td&gt;<br>ã\\x80\\x80&lt;/tr&gt;<br>&lt;/table&gt;<br></div>å\\x91\\x88ç\\x8f¾çµ\\x90æ\\x9e\\x9cå¦\\x82ä¸\\x8b<br><table border=\"1\"><tbody><tr><td>é\\x80\\x99è£¡æ\\x98¯ç¬¬ä¸\\x80è¡\\x8cç\\x9a\\x84ç¬¬ä¸\\x80å\\x80\\x8bæ¬\\x84ä½\\x8d</td><td>é\\x80\\x99è£¡æ\\x98¯ç¬¬ä¸\\x80è¡\\x8cç\\x9a\\x84ç¬¬äº\\x8cå\\x80\\x8bæ¬\\x84ä½\\x8d</td></tr><tr><td>é\\x80\\x99è£¡æ\\x98¯ç¬¬äº\\x8cè¡\\x8cç\\x9a\\x84ç¬¬ä¸\\x80å\\x80\\x8bæ¬\\x84ä½\\x8d</td><td>é\\x80\\x99è£¡æ\\x98¯ç¬¬äº\\x8cè¡\\x8cç\\x9a\\x84ç¬¬äº\\x8cå\\x80\\x8bæ¬\\x84ä½\\x8d</td></tr></tbody></table><br>æ\\x8e¥è\\x91\\x97æ\\x88\\x91å\\x80\\x91æ\\x8a\\x8aç¬¬ä¸\\x80è¡\\x8cè®\\x8aæ\\x88\\x90ä¸\\x80å\\x80\\x8bæ¬\\x84ä½\\x8d<div id=\"CodeBox\">&lt;table border=\"1\"&gt;<br>ã\\x80\\x80&lt;tr&gt;<br>ã\\x80\\x80&lt;td colspan=\"2\"&gt;é\\x80\\x99è£¡æ\\x98¯ç¬¬ä¸\\x80è¡\\x8c&lt;/td&gt;<br>ã\\x80\\x80&lt;/tr&gt;<br>ã\\x80\\x80&lt;tr&gt;<br>ã\\x80\\x80&lt;td&gt;é\\x80\\x99è£¡æ\\x98¯ç¬¬äº\\x8cè¡\\x8cç\\x9a\\x84ç¬¬ä¸\\x80å\\x80\\x8bæ¬\\x84ä½\\x8d&lt;/td&gt;<br>ã\\x80\\x80&lt;td&gt;é\\x80\\x99è£¡æ\\x98¯ç¬¬äº\\x8cè¡\\x8cç\\x9a\\x84ç¬¬äº\\x8cå\\x80\\x8bæ¬\\x84ä½\\x8d&lt;/td&gt;<br>ã\\x80\\x80&lt;/tr&gt;<br>&lt;/table&gt;<br></div>å\\x91\\x88ç\\x8f¾çµ\\x90æ\\x9e\\x9cå¦\\x82ä¸\\x8b<br><table border=\"1\"><tbody><tr><td colspan=\"2\">é\\x80\\x99è£¡æ\\x98¯ç¬¬ä¸\\x80è¡\\x8c</td></tr><tr><td>é\\x80\\x99è£¡æ\\x98¯ç¬¬äº\\x8cè¡\\x8cç\\x9a\\x84ç¬¬ä¸\\x80å\\x80\\x8bæ¬\\x84ä½\\x8d</td><td>é\\x80\\x99è£¡æ\\x98¯ç¬¬äº\\x8cè¡\\x8cç\\x9a\\x84ç¬¬äº\\x8cå\\x80\\x8bæ¬\\x84ä½\\x8d</td></tr></tbody></table><br>æ\\x9c\\x80å¾\\x8cå\\x81\\x9aä¸\\x80å\\x80\\x8bå\\x85©æ¬\\x84ä½\\x8dç\\x9a\\x84 Tableï¼\\x8cç¬¬ä¸\\x80å\\x80\\x8bæ¬\\x84ä½\\x8d rowspan=\"2\"ï¼\\x8cç¬¬äº\\x8cå\\x80\\x8bæ¬\\x84ä½\\x8dæ\\x9c\\x89å\\x85©è¡\\x8c<div id=\"CodeBox\">&lt;table border=\"1\"&gt;<br>ã\\x80\\x80&lt;tr&gt;<br>ã\\x80\\x80&lt;td rowspan=\"2\"&gt;é\\x80\\x99æ\\x98¯ç¬¬ä¸\\x80å\\x80\\x8bæ¬\\x84ä½\\x8d&lt;/td&gt;<br>ã\\x80\\x80&lt;td&gt;é\\x80\\x99è£¡æ\\x98¯ç¬¬äº\\x8cå\\x80\\x8bæ¬\\x84ä½\\x8dç¬¬ä¸\\x80è¡\\x8c&lt;/td&gt;<br>ã\\x80\\x80&lt;/tr&gt;<br>ã\\x80\\x80&lt;tr&gt;<br>ã\\x80\\x80&lt;td&gt;é\\x80\\x99è£¡æ\\x98¯ç¬¬äº\\x8cå\\x80\\x8bæ¬\\x84ä½\\x8dç¬¬äº\\x8cè¡\\x8c&lt;/td&gt;<br>ã\\x80\\x80&lt;/tr&gt;<br>&lt;/table&gt;</div>å\\x91\\x88ç\\x8f¾çµ\\x90æ\\x9e\\x9c<table border=\"1\"><tr><td rowspan=\"2\">é\\x80\\x99æ\\x98¯ç¬¬ä¸\\x80å\\x80\\x8bæ¬\\x84ä½\\x8d</td><td>é\\x80\\x99è£¡æ\\x98¯ç¬¬äº\\x8cå\\x80\\x8bæ¬\\x84ä½\\x8dç¬¬ä¸\\x80è¡\\x8c</td></tr><tr><td>é\\x80\\x99è£¡æ\\x98¯ç¬¬äº\\x8cå\\x80\\x8bæ¬\\x84ä½\\x8dç¬¬äº\\x8cè¡\\x8c</td></tr></table><br><br><b>å»¶ä¼¸é\\x96±è®\\x80</b><ul><li><a href=\"info.php?tid=148\">HTML æ°´å¹³ç½®ä¸\\xadè\\x88\\x87å\\x9e\\x82ç\\x9b´ç½®ä¸\\xad</a></li><li><a href=\"info.php?tid=439\" title=\"HTML Table è¡¨æ\\xa0¼æ\\x96\\x87å\\xad\\x97é¡\\x8fè\\x89²\">HTML Table è¡¨æ\\xa0¼æ\\x96\\x87å\\xad\\x97é¡\\x8fè\\x89²</a></li><li><a href=\"info.php?tid=440\" title=\"HTML Table è¡¨æ\\xa0¼ç\\x9a\\x84æ\\x96\\x87å\\xad\\x97å¤§å°\\x8fè\\x88\\x87å\\xad\\x97å\\x9e\\x8b\">HTML Table è¡¨æ\\xa0¼ç\\x9a\\x84æ\\x96\\x87å\\xad\\x97å¤§å°\\x8fè\\x88\\x87å\\xad\\x97å\\x9e\\x8b</a></li><li><a href=\"info.php?tid=128\">HTML è\\x83\\x8cæ\\x99¯é¡\\x8fè\\x89² bgcolor è\\x88\\x87è\\x83\\x8cæ\\x99¯å\\x9c\\x96ç\\x89\\x87 background è¨\\xadå®\\x9a</a></li><li><a href=\"info.php?tid=86\" title=\"CSS border é\\x82\\x8aæ¡\\x86\">CSS border é\\x82\\x8aæ¡\\x86</a></li><li><a href=\"info.php?tid=441\" title=\"HTML Table è¡¨æ\\xa0¼é\\x82\\x8aæ¡\\x86é¡\\x8fè\\x89²è\\x88\\x87æ¨£å¼\\x8fè¨\\xadè¨\\x88\">HTML Table è¡¨æ\\xa0¼é\\x82\\x8aæ¡\\x86é¡\\x8fè\\x89²è\\x88\\x87æ¨£å¼\\x8fè¨\\xadè¨\\x88</a></li><li><a href=\"info.php?tid=442\" title=\"HTML Table è¡¨æ\\xa0¼è\\x83\\x8cæ\\x99¯é¡\\x8fè\\x89²\">HTML Table è¡¨æ\\xa0¼è\\x83\\x8cæ\\x99¯é¡\\x8fè\\x89²</a></li><li><a href=\"info.php?tid=HTML_Table_cellpadding_%E5%B1%AC%E6%80%A7\" title=\"HTML Table cellpadding å±¬æ\\x80§\">HTML Table cellpadding å±¬æ\\x80§</a></li></ul></div>\\n\\t\\t\\t\\t\\n\\t\\t<div id=\"Ads2\">\\n\\t\\t<!--å\\x8e\\x9fç\\x94\\x9f_æ\\x96\\x87ç«\\xa0å\\x85§ç½®_2 Start-->\\n\\t\\t\\n\\t\\t<script async src=\"//pagead2.googlesyndication.com/pagead/js/adsbygoogle.js\"></script>\\n\\t\\t<ins class=\"adsbygoogle\"\\n\\t\\t\\t style=\"display:block; text-align:center;\"\\n\\t\\t\\t data-ad-format=\"fluid\"\\n\\t\\t\\t data-ad-layout=\"in-article\"\\n\\t\\t\\t data-ad-client=\"ca-pub-5633897948803345\"\\n\\t\\t\\t data-ad-slot=\"8935776588\"></ins>\\n\\t\\t<script>\\n\\t\\t\\t (adsbygoogle = window.adsbygoogle || []).push({});\\n\\t\\t</script>\\n\\t\\t\\n\\t\\t<!--å\\x8e\\x9fç\\x94\\x9f_æ\\x96\\x87ç«\\xa0å\\x85§ç½®_2 End-->\\n\\t\\t</div>\\n\\t\\t<div id=\"Ads3\">\\n\\t\\t<!--å\\x9b\\x9eæ\\x87\\x89å¼\\x8fé\\x80£çµ\\x90_1 Start-->\\n\\t\\t\\n<script async src=\"//pagead2.googlesyndication.com/pagead/js/adsbygoogle.js\"></script>\\n<!-- Wibibi_å\\x9b\\x9eæ\\x87\\x89å¼\\x8fé\\x80£çµ\\x90_1 -->\\n<ins class=\"adsbygoogle\"\\n     style=\"display:block\"\\n     data-ad-client=\"ca-pub-5633897948803345\"\\n     data-ad-slot=\"6949588132\"\\n     data-ad-format=\"link\"></ins>\\n<script>\\n(adsbygoogle = window.adsbygoogle || []).push({});\\n</script>\\n\\t\\t\\n\\t\\t<!--å\\x9b\\x9eæ\\x87\\x89å¼\\x8fé\\x80£çµ\\x90_1 Start-->\\n\\t\\t</div>\\t\\t\\n\\t\\t\\t\\t\\t\\t<div id=\"SuggestTopic\">\\n\\t\\t<p>æ\\x82¨å\\x8f¯è\\x83½æ\\x9c\\x83æ\\x83³ç\\x9c\\x8b</p>\\n\\t\\t<ul>\\n\\t\\t\\t\\t<li><a href=\"info.php?tid=HTML_div_%E6%A8%99%E7%B1%A4\">HTML div æ¨\\x99ç±¤</a></li>\\n\\t\\t\\t\\t<li><a href=\"info.php?tid=%E8%A8%AD%E8%A8%88_HTML_%E5%9C%96%E7%89%87%E8%88%87%E5%9C%96%E7%89%87%E9%82%8A%E6%A1%86%E9%96%93%E7%9A%84%E8%B7%9D%E9%9B%A2\">è¨\\xadè¨\\x88 HTML å\\x9c\\x96ç\\x89\\x87è\\x88\\x87å\\x9c\\x96ç\\x89\\x87é\\x82\\x8aæ¡\\x86é\\x96\\x93ç\\x9a\\x84è·\\x9dé\\x9b¢</a></li>\\n\\t\\t\\t\\t<li><a href=\"info.php?tid=DIV_%E5%8D%80%E5%A1%8A%E5%85%A7%E6%96%87%E5%AD%97%E8%88%87%E9%82%8A%E6%A1%86%E7%9A%84%E8%B7%9D%E9%9B%A2%E8%AA%BF%E6%95%B4\">DIV å\\x8d\\x80å¡\\x8aå\\x85§æ\\x96\\x87å\\xad\\x97è\\x88\\x87é\\x82\\x8aæ¡\\x86ç\\x9a\\x84è·\\x9dé\\x9b¢èª¿æ\\x95´</a></li>\\n\\t\\t\\t\\t<li><a href=\"info.php?tid=HTML_TABLE_%E8%A1%A8%E6%A0%BC%E5%85%A7%E7%9A%84%E6%96%87%E5%AD%97%E8%A1%8C%E9%AB%98\">HTML TABLE è¡¨æ\\xa0¼å\\x85§ç\\x9a\\x84æ\\x96\\x87å\\xad\\x97è¡\\x8cé«\\x98</a></li>\\n\\t\\t\\t\\t<li><a href=\"info.php?tid=DIV_%E5%8D%80%E5%A1%8A%E5%85%A7%E7%9A%84%E6%96%87%E5%AD%97%E8%A1%8C%E9%AB%98%E8%A8%AD%E8%A8%88\">DIV å\\x8d\\x80å¡\\x8aå\\x85§ç\\x9a\\x84æ\\x96\\x87å\\xad\\x97è¡\\x8cé«\\x98è¨\\xadè¨\\x88</a></li>\\n\\t\\t\\t\\t<li><a href=\"info.php?tid=%E6%9B%BF_HTML_button_%E6%8C%89%E9%88%95%E5%A2%9E%E5%8A%A0%E8%83%8C%E6%99%AF%E5%9C%96%E7%89%87\">æ\\x9b¿ HTML button æ\\x8c\\x89é\\x88\\x95å¢\\x9eå\\x8a\\xa0è\\x83\\x8cæ\\x99¯å\\x9c\\x96ç\\x89\\x87</a></li>\\n\\t\\t\\t\\t<li><a href=\"info.php?tid=HTML_img_title_%E8%88%87_img_alt_%E7%9A%84%E5%B7%AE%E5%88%A5\">HTML img title è\\x88\\x87 img alt ç\\x9a\\x84å·®å\\x88¥</a></li>\\n\\t\\t\\t\\t<li><a href=\"info.php?tid=%E7%94%A8_CSS_%E8%A8%AD%E8%A8%88_HTML_%E8%A1%A8%E6%A0%BC%E6%AC%84%E4%BD%8D%E5%85%A7%E6%96%87%E5%AD%97%E9%9D%A0%E4%B8%8B%E5%B0%8D%E9%BD%8A\">ç\\x94¨ CSS è¨\\xadè¨\\x88 HTML è¡¨æ\\xa0¼æ¬\\x84ä½\\x8då\\x85§æ\\x96\\x87å\\xad\\x97é\\x9d\\xa0ä¸\\x8bå°\\x8dé½\\x8a</a></li>\\n\\t\\t\\t\\t<li><a href=\"info.php?tid=%E7%94%A8_CSS_%E8%A8%AD%E8%A8%88_HTML_%E8%A1%A8%E6%A0%BC%E6%AC%84%E4%BD%8D%E5%85%A7%E6%96%87%E5%AD%97%E9%9D%A0%E4%B8%8A%E5%B0%8D%E9%BD%8A\">ç\\x94¨ CSS è¨\\xadè¨\\x88 HTML è¡¨æ\\xa0¼æ¬\\x84ä½\\x8då\\x85§æ\\x96\\x87å\\xad\\x97é\\x9d\\xa0ä¸\\x8aå°\\x8dé½\\x8a</a></li>\\n\\t\\t\\t\\t<li><a href=\"info.php?tid=HTML_Table_colspan_%E5%B1%AC%E6%80%A7\">HTML Table colspan å±¬æ\\x80§</a></li>\\n\\t\\t\\t\\t</ul>\\n\\t\\t</div>\\n\\t\\t\\t\\t<!--ç\\x9b¸ç¬¦å\\x85§å®¹ Start-->\\n\\t\\t<div id=\"Ads4\">\\n\\t\\t\\n\\t\\t<script async src=\"//pagead2.googlesyndication.com/pagead/js/adsbygoogle.js\"></script>\\n\\t\\t<ins class=\"adsbygoogle\"\\n\\t\\t\\t style=\"display:block\"\\n\\t\\t\\t data-ad-format=\"autorelaxed\"\\n\\t\\t\\t data-ad-client=\"ca-pub-5633897948803345\"\\n\\t\\t\\t data-ad-slot=\"6965838540\"></ins>\\n\\t\\t<script>\\n\\t\\t\\t (adsbygoogle = window.adsbygoogle || []).push({});\\n\\t\\t</script>\\t\\t\\n\\t\\t\\n\\t\\t</div>\\n\\t\\t<!--ç\\x9b¸ç¬¦å\\x85§å®¹ End-->\\n\\t\\t\\t</div>\\n\\t<div id=\\'sidebar_right\\'>\\n\\t\\t\\t\\t<div id=\"Ads5\">\\n\\t\\t\\t\\n\\t\\t<script async src=\"//pagead2.googlesyndication.com/pagead/js/adsbygoogle.js\"></script>\\n\\t\\t<!-- Wibibi_å\\x9b\\x9eæ\\x87\\x89å¼\\x8f_1 -->\\n\\t\\t<ins class=\"adsbygoogle\"\\n\\t\\t\\t style=\"display:block\"\\n\\t\\t\\t data-ad-client=\"ca-pub-5633897948803345\"\\n\\t\\t\\t data-ad-slot=\"7789038844\"\\n\\t\\t\\t data-ad-format=\"auto\"></ins>\\n\\t\\t<script>\\n\\t\\t(adsbygoogle = window.adsbygoogle || []).push({});\\n\\t\\t</script>\\t\\t\\n\\t\\t\\n\\t\\t</div>\\n\\t\\t<div id=\"ToDayHotList\">\\n\\t\\t<p>ä»\\x8aæ\\x97¥ç\\x86±é\\x96\\x80æ\\x96\\x87ç«\\xa0</p>\\n\\t\\t<ul>\\n\\t\\t\\t\\t<li><a href=\"info.php?tid=HTML_div_%E6%A8%99%E7%B1%A4\">HTML div æ¨\\x99ç±¤</a></li>\\n\\t\\t\\t\\t<li><a href=\"info.php?tid=CSS_Attribute_Selectors_%E5%B1%AC%E6%80%A7%E9%81%B8%E6%93%87%E5%99%A8\">CSS Attribute Selectors å±¬æ\\x80§é\\x81¸æ\\x93\\x87å\\x99¨</a></li>\\n\\t\\t\\t\\t<li><a href=\"info.php?tid=%E6%9B%BF_CSS_span_%E5%8D%80%E5%9F%9F%E5%A2%9E%E5%8A%A0%E9%99%B0%E5%BD%B1%E6%95%88%E6%9E%9C\">æ\\x9b¿ CSS span å\\x8d\\x80å\\x9f\\x9få¢\\x9eå\\x8a\\xa0é\\x99°å½±æ\\x95\\x88æ\\x9e\\x9c</a></li>\\n\\t\\t\\t\\t<li><a href=\"info.php?tid=CSS_span_%E5%8D%80%E5%9F%9F%E6%96%87%E5%AD%97%E5%AD%97%E5%9E%8B%E8%A8%AD%E8%A8%88\">CSS span å\\x8d\\x80å\\x9f\\x9fæ\\x96\\x87å\\xad\\x97å\\xad\\x97å\\x9e\\x8bè¨\\xadè¨\\x88</a></li>\\n\\t\\t\\t\\t<li><a href=\"info.php?tid=CSS_span_%E5%8D%80%E5%9F%9F%E9%82%8A%E6%A1%86%E9%A1%8F%E8%89%B2%E8%88%87%E6%A8%A3%E5%BC%8F%E8%A8%AD%E8%A8%88\">CSS span å\\x8d\\x80å\\x9f\\x9fé\\x82\\x8aæ¡\\x86é¡\\x8fè\\x89²è\\x88\\x87æ¨£å¼\\x8fè¨\\xadè¨\\x88</a></li>\\n\\t\\t\\t\\t<li><a href=\"info.php?tid=CSS_span_%E5%8D%80%E5%9F%9F%E8%83%8C%E6%99%AF%E9%A1%8F%E8%89%B2%E8%A8%AD%E8%A8%88\">CSS span å\\x8d\\x80å\\x9f\\x9fè\\x83\\x8cæ\\x99¯é¡\\x8fè\\x89²è¨\\xadè¨\\x88</a></li>\\n\\t\\t\\t\\t<li><a href=\"info.php?tid=%E8%A8%AD%E8%A8%88_HTML_%E5%9C%96%E7%89%87%E8%88%87%E5%9C%96%E7%89%87%E9%82%8A%E6%A1%86%E9%96%93%E7%9A%84%E8%B7%9D%E9%9B%A2\">è¨\\xadè¨\\x88 HTML å\\x9c\\x96ç\\x89\\x87è\\x88\\x87å\\x9c\\x96ç\\x89\\x87é\\x82\\x8aæ¡\\x86é\\x96\\x93ç\\x9a\\x84è·\\x9dé\\x9b¢</a></li>\\n\\t\\t\\t\\t<li><a href=\"info.php?tid=DIV_%E5%8D%80%E5%A1%8A%E5%85%A7%E6%96%87%E5%AD%97%E8%88%87%E9%82%8A%E6%A1%86%E7%9A%84%E8%B7%9D%E9%9B%A2%E8%AA%BF%E6%95%B4\">DIV å\\x8d\\x80å¡\\x8aå\\x85§æ\\x96\\x87å\\xad\\x97è\\x88\\x87é\\x82\\x8aæ¡\\x86ç\\x9a\\x84è·\\x9dé\\x9b¢èª¿æ\\x95´</a></li>\\n\\t\\t\\t\\t<li><a href=\"info.php?tid=HTML_TABLE_%E8%A1%A8%E6%A0%BC%E5%85%A7%E7%9A%84%E6%96%87%E5%AD%97%E8%A1%8C%E9%AB%98\">HTML TABLE è¡¨æ\\xa0¼å\\x85§ç\\x9a\\x84æ\\x96\\x87å\\xad\\x97è¡\\x8cé«\\x98</a></li>\\n\\t\\t\\t\\t<li><a href=\"info.php?tid=DIV_%E5%8D%80%E5%A1%8A%E5%85%A7%E7%9A%84%E6%96%87%E5%AD%97%E8%A1%8C%E9%AB%98%E8%A8%AD%E8%A8%88\">DIV å\\x8d\\x80å¡\\x8aå\\x85§ç\\x9a\\x84æ\\x96\\x87å\\xad\\x97è¡\\x8cé«\\x98è¨\\xadè¨\\x88</a></li>\\n\\t\\t\\t\\t</ul>\\n\\t\\t</div>\\t\\t\\t\\n\\t\\t<div id=\\'Ads6\\'>\\n\\t\\t\\n\\t\\t<script async src=\"//pagead2.googlesyndication.com/pagead/js/adsbygoogle.js\"></script>\\n\\t\\t<!-- Wibibi_å\\x9b\\x9eæ\\x87\\x89å¼\\x8f_2 -->\\n\\t\\t<ins class=\"adsbygoogle\"\\n\\t\\t\\t style=\"display:block\"\\n\\t\\t\\t data-ad-client=\"ca-pub-5633897948803345\"\\n\\t\\t\\t data-ad-slot=\"7844879168\"\\n\\t\\t\\t data-ad-format=\"auto\"></ins>\\n\\t\\t<script>\\n\\t\\t(adsbygoogle = window.adsbygoogle || []).push({});\\n\\t\\t</script>\\t\\n\\t\\t\\n\\t\\t</div>\\n\\t\\t<div id=\"NowHotTopicList\">\\n\\t\\t<p>å\\x8d³æ\\x99\\x82ç\\x86±é\\x96\\x80æ\\x96\\x87ç«\\xa0</p>\\n\\t\\t<ul>\\n\\t\\t\\t\\t<li><a href=\"info.php?tid=HTML_div_%E6%A8%99%E7%B1%A4\">HTML div æ¨\\x99ç±¤</a></li>\\n\\t\\t\\t\\t<li><a href=\"info.php?tid=CSS_Attribute_Selectors_%E5%B1%AC%E6%80%A7%E9%81%B8%E6%93%87%E5%99%A8\">CSS Attribute Selectors å±¬æ\\x80§é\\x81¸æ\\x93\\x87å\\x99¨</a></li>\\n\\t\\t\\t\\t<li><a href=\"info.php?tid=%E6%9B%BF_CSS_span_%E5%8D%80%E5%9F%9F%E5%A2%9E%E5%8A%A0%E9%99%B0%E5%BD%B1%E6%95%88%E6%9E%9C\">æ\\x9b¿ CSS span å\\x8d\\x80å\\x9f\\x9få¢\\x9eå\\x8a\\xa0é\\x99°å½±æ\\x95\\x88æ\\x9e\\x9c</a></li>\\n\\t\\t\\t\\t<li><a href=\"info.php?tid=CSS_span_%E5%8D%80%E5%9F%9F%E6%96%87%E5%AD%97%E5%AD%97%E5%9E%8B%E8%A8%AD%E8%A8%88\">CSS span å\\x8d\\x80å\\x9f\\x9fæ\\x96\\x87å\\xad\\x97å\\xad\\x97å\\x9e\\x8bè¨\\xadè¨\\x88</a></li>\\n\\t\\t\\t\\t<li><a href=\"info.php?tid=CSS_span_%E5%8D%80%E5%9F%9F%E9%82%8A%E6%A1%86%E9%A1%8F%E8%89%B2%E8%88%87%E6%A8%A3%E5%BC%8F%E8%A8%AD%E8%A8%88\">CSS span å\\x8d\\x80å\\x9f\\x9fé\\x82\\x8aæ¡\\x86é¡\\x8fè\\x89²è\\x88\\x87æ¨£å¼\\x8fè¨\\xadè¨\\x88</a></li>\\n\\t\\t\\t\\t<li><a href=\"info.php?tid=CSS_span_%E5%8D%80%E5%9F%9F%E8%83%8C%E6%99%AF%E9%A1%8F%E8%89%B2%E8%A8%AD%E8%A8%88\">CSS span å\\x8d\\x80å\\x9f\\x9fè\\x83\\x8cæ\\x99¯é¡\\x8fè\\x89²è¨\\xadè¨\\x88</a></li>\\n\\t\\t\\t\\t<li><a href=\"info.php?tid=%E8%A8%AD%E8%A8%88_HTML_%E5%9C%96%E7%89%87%E8%88%87%E5%9C%96%E7%89%87%E9%82%8A%E6%A1%86%E9%96%93%E7%9A%84%E8%B7%9D%E9%9B%A2\">è¨\\xadè¨\\x88 HTML å\\x9c\\x96ç\\x89\\x87è\\x88\\x87å\\x9c\\x96ç\\x89\\x87é\\x82\\x8aæ¡\\x86é\\x96\\x93ç\\x9a\\x84è·\\x9dé\\x9b¢</a></li>\\n\\t\\t\\t\\t<li><a href=\"info.php?tid=DIV_%E5%8D%80%E5%A1%8A%E5%85%A7%E6%96%87%E5%AD%97%E8%88%87%E9%82%8A%E6%A1%86%E7%9A%84%E8%B7%9D%E9%9B%A2%E8%AA%BF%E6%95%B4\">DIV å\\x8d\\x80å¡\\x8aå\\x85§æ\\x96\\x87å\\xad\\x97è\\x88\\x87é\\x82\\x8aæ¡\\x86ç\\x9a\\x84è·\\x9dé\\x9b¢èª¿æ\\x95´</a></li>\\n\\t\\t\\t\\t<li><a href=\"info.php?tid=HTML_TABLE_%E8%A1%A8%E6%A0%BC%E5%85%A7%E7%9A%84%E6%96%87%E5%AD%97%E8%A1%8C%E9%AB%98\">HTML TABLE è¡¨æ\\xa0¼å\\x85§ç\\x9a\\x84æ\\x96\\x87å\\xad\\x97è¡\\x8cé«\\x98</a></li>\\n\\t\\t\\t\\t<li><a href=\"info.php?tid=DIV_%E5%8D%80%E5%A1%8A%E5%85%A7%E7%9A%84%E6%96%87%E5%AD%97%E8%A1%8C%E9%AB%98%E8%A8%AD%E8%A8%88\">DIV å\\x8d\\x80å¡\\x8aå\\x85§ç\\x9a\\x84æ\\x96\\x87å\\xad\\x97è¡\\x8cé«\\x98è¨\\xadè¨\\x88</a></li>\\n\\t\\t\\t\\t</ul>\\n\\t\\t</div>\\t\\n\\t\\t<div id=\\'Ads7\\'>\\n\\t\\t\\n\\t\\t<script async src=\"//pagead2.googlesyndication.com/pagead/js/adsbygoogle.js\"></script>\\n\\t\\t<!-- Wibibi_å\\x9b\\x9eæ\\x87\\x89å¼\\x8f_3 -->\\n\\t\\t<ins class=\"adsbygoogle\"\\n\\t\\t\\t style=\"display:block\"\\n\\t\\t\\t data-ad-client=\"ca-pub-5633897948803345\"\\n\\t\\t\\t data-ad-slot=\"8837384872\"\\n\\t\\t\\t data-ad-format=\"auto\"></ins>\\n\\t\\t<script>\\n\\t\\t(adsbygoogle = window.adsbygoogle || []).push({});\\n\\t\\t</script>\\t\\t\\n\\t\\t\\n\\t\\t</div>\\n\\t\\t<div id=\"Ads8\">\\n\\t\\t\\n\\t\\t<script async src=\"//pagead2.googlesyndication.com/pagead/js/adsbygoogle.js\"></script>\\n\\t\\t<!-- Wibibi_å\\x9b\\x9eæ\\x87\\x89å¼\\x8fé\\x80£çµ\\x90_2 -->\\n\\t\\t<ins class=\"adsbygoogle\"\\n\\t\\t\\t style=\"display:block\"\\n\\t\\t\\t data-ad-client=\"ca-pub-5633897948803345\"\\n\\t\\t\\t data-ad-slot=\"6959338178\"\\n\\t\\t\\t data-ad-format=\"link\"></ins>\\n\\t\\t<script>\\n\\t\\t(adsbygoogle = window.adsbygoogle || []).push({});\\n\\t\\t</script>\\t\\t\\n\\t\\t\\n\\t\\t</div>\\n\\t\\t<div id=\\'FB\\'><iframe src=\"//www.facebook.com/plugins/likebox.php?href=http%3A%2F%2Fwww.facebook.com%2Fpages%2FWibibi-%25E7%25B6%25B2%25E9%25A0%2581%25E8%25A8%25AD%25E8%25A8%2588%25E6%2595%2599%25E5%25AD%25B8%25E5%2588%2586%25E4%25BA%25AB%2F445620392149569&amp;width=300&amp;height=460&amp;colorscheme=light&amp;show_faces=false&amp;border_color&amp;stream=true&amp;header=true\" style=\"border:none; overflow:hidden; width:300px; height:460px;\" allowtransparency=\"true\" frameborder=\"0\" scrolling=\"no\"></iframe></div>\\n\\t\\t<div id=\\'Ads9\\'>\\n\\t\\t<!--å\\x9f\\x9få\\x8b\\x95è¡\\x8cé\\x8a· Start-->\\n\\t\\t\\n\\t\\t<ins class=\"clickforceads\" style=\"display:inline-block;width:300px;height:250px;\" data-ad-zone=\"433\"></ins>\\n\\t\\t<script async type=\"text/javascript\" src=\"//cdn.doublemax.net/js/init.js\"></script>\\n\\t\\t\\n\\t\\t<!--å\\x9f\\x9få\\x8b\\x95è¡\\x8cé\\x8a· End-->\\t\\n\\t\\t</div>\\n\\t\\t\\t\\n\\t</div>\\n\\t<div style=\"clear:both;\"></div>\\n</div>\\n<div id=\\'FooterBox\\'>\\n\\t<div id=\\'FooterDiscript\\'>Â© Copyright <a href=\\'/\\'>wibibi.com</a> ç¶²é\\xa0\\x81è¨\\xadè¨\\x88æ\\x95\\x99å\\xad¸ç\\x99¾ç§\\x91 å\\x9fºç¤\\x8eç\\x9a\\x84ç¶²é\\xa0\\x81è¨\\xadè¨\\x88è¦\\x8få\\x8a\\x83ã\\x80\\x81è³\\x87æ\\x96\\x99åº«è\\x88\\x87ç¨\\x8bå¼\\x8fè¨\\xadè¨\\x88 Since 2012 <a href=\"http://en.wibibi.com\">Englsih version</a><br><a href=\\'http://www.php.net/\\' target=\\'_blank\\'>PHP</a> <a href=\\'http://www.smarty.net/\\' target=\\'_blank\\'>Smarty</a> <a href=\\'http://www.mysql.com/\\' target=\\'_blank\\'>MySQL</a> <a href=\\'http://jquery.com/\\' target=\\'_blank\\'>JQuery</a> <a href=\\'http://www.apache.org/\\' target=\\'_blank\\'>Apache</a> <a href=\\'http://www.w3c.org/\\' target=\\'_blank\\'>W3C</a></div>\\n</div>\\n\\n<!--å°\\x8eå\\x85¥JQueryè\\x88\\x87æ»\\x91å\\x8b\\x95é\\x81¸å\\x96® Start-->\\n<script src=\"http://ajax.googleapis.com/ajax/libs/jquery/1.9.1/jquery.min.js\"></script>\\n<script type=\"text/javascript\">\\n$(document).ready(function() {\\n    $(\"#toggle\").click(function() {\\n        $(this).toggleClass(\"active\");\\n        $(\"#Menu\").slideToggle();\\n    });\\n\\n});\\n</script>\\n<!--å°\\x8eå\\x85¥JQueryè\\x88\\x87æ»\\x91å\\x8b\\x95é\\x81¸å\\x96® End-->\\n\\n<script type=\"text/javascript\">\\n\\n  var _gaq = _gaq || [];\\n  _gaq.push([\\'_setAccount\\', \\'UA-32829362-1\\']);\\n  _gaq.push([\\'_trackPageview\\']);\\n\\n  (function() {\\n    var ga = document.createElement(\\'script\\'); ga.type = \\'text/javascript\\'; ga.async = true;\\n    ga.src = (\\'https:\\' == document.location.protocol ? \\'https://ssl\\' : \\'http://www\\') + \\'.google-analytics.com/ga.js\\';\\n    var s = document.getElementsByTagName(\\'script\\')[0]; s.parentNode.insertBefore(ga, s);\\n  })();\\n\\n</script>\\n\\n</body>\\n</html>'"
      ]
     },
     "execution_count": 2,
     "metadata": {},
     "output_type": "execute_result"
    }
   ],
   "source": [
    "res.text"
   ]
  },
  {
   "cell_type": "markdown",
   "metadata": {},
   "source": [
    "### 轉碼"
   ]
  },
  {
   "cell_type": "code",
   "execution_count": 3,
   "metadata": {},
   "outputs": [
    {
     "data": {
      "text/plain": [
       "'\\ufeff<!DOCTYPE HTML PUBLIC \"-//W3C//DTD HTML 4.01 Transitional//EN\"\\n\"http://www.w3.org/TR/html4/loose.dtd\">\\n<html>\\n<head>\\n<title>HTML Table 表格 - Wibibi</title>\\n<meta http-equiv=\"Content-Type\" content=\"text/html; charset=utf-8\">\\n<meta name=\"description\" content=\"HTML 網頁設計不可或缺的元素就是表格（Table），通常表格用來做版面的排版，而表格的用法包含了幾個重要的標籤，分別是 table、tr 與 td 這幾個重點，組合起來才是\">\\n<meta name=\"keywords\" content=\"HTML,Table,表格\">\\n<meta name=\"viewport\" content=\"width=device-width, initial-scale=1.0\">\\n<link href=\"css/main.css\" rel=\"stylesheet\" type=\"text/css\" media=\"(min-width:641px)\" />\\n<link href=\"css/main_small.css\" rel=\"stylesheet\" type=\"text/css\" media=\"(max-width:640px)\" />\\n<link href=\"css/info.css\" rel=\"stylesheet\" type=\"text/css\" media=\"(min-width:641px)\" />\\n<link href=\"css/info_small.css\" rel=\"stylesheet\" type=\"text/css\" media=\"(max-width:640px)\" />\\n<link rel=\"shortcut icon\" href=\"favicon.ico\" >\\n</head>\\n<body>\\n<div id=\\'HeaderBox\\'>\\n\\t<div id=\\'SiteLogo\\'><a href=\\'/\\'><img src=\\'images/logo.png\\' border=\\'0\\'></a></div>\\n\\t<div id=\"toggle\"><img src=\"images/ControlMenuIcon.png\"></div>\\n\\t<div id=\"SearchBox\">\\n\\n<script>\\n  (function() {\\n    var cx = \\'partner-pub-5633897948803345:8240044338\\';\\n    var gcse = document.createElement(\\'script\\');\\n    gcse.type = \\'text/javascript\\';\\n    gcse.async = true;\\n    gcse.src = (document.location.protocol == \\'https:\\' ? \\'https:\\' : \\'http:\\') +\\n        \\'//cse.google.com/cse.js?cx=\\' + cx;\\n    var s = document.getElementsByTagName(\\'script\\')[0];\\n    s.parentNode.insertBefore(gcse, s);\\n  })();\\n</script>\\n<gcse:searchbox-only></gcse:searchbox-only>\\n\\n\\t</div>\\n\\t<div style=\"clear:both;\"></div>\\n</div>\\n<div id=\\'Menu\\'>\\n\\t<ul>\\n\\t<li><a href=\\'/\\'>首頁</a></li>\\n\\t\\t<li><a href=\\'c.php?cid=9\\'>HTML</a></li>\\n\\t\\t<li><a href=\\'c.php?cid=20\\'>HTML5</a></li>\\n\\t\\t<li><a href=\\'c.php?cid=5\\'>PHP</a></li>\\n\\t\\t<li><a href=\\'c.php?cid=19\\'>MySQL</a></li>\\n\\t\\t<li><a href=\\'c.php?cid=7\\'>CSS</a></li>\\n\\t\\t<li><a href=\\'c.php?cid=21\\'>CSS3</a></li>\\n\\t\\t<li><a href=\\'c.php?cid=10\\'>JavaScript</a></li>\\n\\t\\t<li><a href=\\'c.php?cid=18\\'>軟體介紹</a></li>\\n\\t\\t<li><a href=\\'c.php?cid=14\\'>其它</a></li>\\n\\t\\t<li><a href=\\'https://twnoc.net/whmcs/aff.php?aff=1099\\' rel=\"nofollow\" target=\"_blank\">遠振資訊虛擬主機</a></li>\\n\\t<div style=\\'clear:both;\\'></div>\\n\\t</ul>\\n</div><div id=\\'navi\\'><a href=\\'/\\'>Home</a> &nbsp;›&nbsp; <a href=\\'c.php?cid=9\\'>HTML</a> &nbsp;›&nbsp; HTML Table 表格</div>\\n<div id=\"container\">\\n\\t<div id=\\'MainShow\\'>\\n\\t\\t<h1>HTML Table 表格</h1>\\n\\t\\t<!--原生_文章內置_1 Start-->\\n\\t\\t<div id=\"Ads1\">\\n\\t\\t\\t\\t\\n\\t\\t<script async src=\"//pagead2.googlesyndication.com/pagead/js/adsbygoogle.js\"></script>\\n\\t\\t<ins class=\"adsbygoogle\"\\n\\t\\t\\t style=\"display:block; text-align:center;\"\\n\\t\\t\\t data-ad-format=\"fluid\"\\n\\t\\t\\t data-ad-layout=\"in-article\"\\n\\t\\t\\t data-ad-client=\"ca-pub-5633897948803345\"\\n\\t\\t\\t data-ad-slot=\"1174116920\"></ins>\\n\\t\\t<script>\\n\\t\\t\\t (adsbygoogle = window.adsbygoogle || []).push({});\\n\\t\\t</script>\\n\\t\\t\\n\\t\\t\\t\\t</div>\\n\\t\\t<!--原生_文章內置_1 End-->\\n\\t\\t<div id=\\'content\\'>HTML 網頁設計不可或缺的元素就是表格（Table），通常表格用來做版面的排版，而表格的用法包含了幾個重要的標籤，分別是 table、tr 與 td 這幾個重點，組合起來才是個完整的表格，以下做個簡單的表格範例。<div id=\"CodeBox\">&lt;table border=\"1\"&gt;<br>\\u3000&lt;tr&gt;<br>\\u3000&lt;td&gt;這裡可以放表格內容&lt;/td&gt;<br>\\u3000&lt;/tr&gt;<br>&lt;/table&gt;<br></div>呈現結果如下<br><table border=\"1\"><tbody><tr><td>這裡可以放表格內容</td></tr></tbody></table><br>範例中使用了&lt;table&gt; 與 &lt;/table&gt; 的標籤把內容包起來，&lt;tr&gt;&lt;/tr&gt; 標籤代表的是一行，而 &lt;td&gt;&lt;/td&gt; 標籤則代表一列，為了清楚呈現，我們還為 table 加上了 border=\"1\" 的設定，這代表這個 table 的邊框粗細是 1，在實際使用上你也可以設定為其它的値，例如 border=\"0\" 則不會顯示邊框。請注意 HTML 語法都必須用一個開始標籤與一個結束標籤把內容包起來，開始標籤與結束標籤是對等的，缺一不可。<br><br>除了可以寫一個單純的表格之外，我們還可以設定 table 的寬度、高度或邊框樣式，要做這些設定，你必須先了解幾個能夠控制表格的元素，例如 width、border、background ... 等。<br><ul><li>width：控制 table 的寬度</li><li>border：控制 table 邊框的粗細</li><li>background：控制背景圖片</li><li>colspan：控制儲存格橫跨幾個欄位</li><li>rowspan：控制儲存格垂直跨幾個欄位<br></li></ul>接著我們寫幾個範例<br><br>兩個欄位的 table 表格範例<br><div id=\"CodeBox\">&lt;table width=\"300\" border=\"1\"&gt;<br>\\u3000&lt;tr&gt;<br>\\u3000&lt;td&gt;這裡是第一個欄位&lt;/td&gt;<br>\\u3000&lt;td&gt;這裡是第二個欄位&lt;/td&gt;<br>\\u3000&lt;/tr&gt;<br>&lt;/table&gt;<br></div>呈現結果如下<br><table width=\"300\" border=\"1\"><tbody><tr><td>這裡是第一個欄位</td><td>這裡是第二個欄位</td></tr></tbody></table><br><br>兩行兩欄位的 Table 表格範例<div id=\"CodeBox\">&lt;table border=\"1\"&gt;<br>\\u3000&lt;tr&gt;<br>\\u3000&lt;td&gt;這裡是第一行的第一個欄位&lt;/td&gt;<br>\\u3000&lt;td&gt;這裡是第一行的第二個欄位&lt;/td&gt;<br>\\u3000&lt;/tr&gt;<br>\\u3000&lt;tr&gt;<br>\\u3000&lt;td&gt;這裡是第二行的第一個欄位&lt;/td&gt;<br>\\u3000&lt;td&gt;這裡是第二行的第二個欄位&lt;/td&gt;<br>\\u3000&lt;/tr&gt;<br>&lt;/table&gt;<br></div>呈現結果如下<br><table border=\"1\"><tbody><tr><td>這裡是第一行的第一個欄位</td><td>這裡是第一行的第二個欄位</td></tr><tr><td>這裡是第二行的第一個欄位</td><td>這裡是第二行的第二個欄位</td></tr></tbody></table><br>接著我們把第一行變成一個欄位<div id=\"CodeBox\">&lt;table border=\"1\"&gt;<br>\\u3000&lt;tr&gt;<br>\\u3000&lt;td colspan=\"2\"&gt;這裡是第一行&lt;/td&gt;<br>\\u3000&lt;/tr&gt;<br>\\u3000&lt;tr&gt;<br>\\u3000&lt;td&gt;這裡是第二行的第一個欄位&lt;/td&gt;<br>\\u3000&lt;td&gt;這裡是第二行的第二個欄位&lt;/td&gt;<br>\\u3000&lt;/tr&gt;<br>&lt;/table&gt;<br></div>呈現結果如下<br><table border=\"1\"><tbody><tr><td colspan=\"2\">這裡是第一行</td></tr><tr><td>這裡是第二行的第一個欄位</td><td>這裡是第二行的第二個欄位</td></tr></tbody></table><br>最後做一個兩欄位的 Table，第一個欄位 rowspan=\"2\"，第二個欄位有兩行<div id=\"CodeBox\">&lt;table border=\"1\"&gt;<br>\\u3000&lt;tr&gt;<br>\\u3000&lt;td rowspan=\"2\"&gt;這是第一個欄位&lt;/td&gt;<br>\\u3000&lt;td&gt;這裡是第二個欄位第一行&lt;/td&gt;<br>\\u3000&lt;/tr&gt;<br>\\u3000&lt;tr&gt;<br>\\u3000&lt;td&gt;這裡是第二個欄位第二行&lt;/td&gt;<br>\\u3000&lt;/tr&gt;<br>&lt;/table&gt;</div>呈現結果<table border=\"1\"><tr><td rowspan=\"2\">這是第一個欄位</td><td>這裡是第二個欄位第一行</td></tr><tr><td>這裡是第二個欄位第二行</td></tr></table><br><br><b>延伸閱讀</b><ul><li><a href=\"info.php?tid=148\">HTML 水平置中與垂直置中</a></li><li><a href=\"info.php?tid=439\" title=\"HTML Table 表格文字顏色\">HTML Table 表格文字顏色</a></li><li><a href=\"info.php?tid=440\" title=\"HTML Table 表格的文字大小與字型\">HTML Table 表格的文字大小與字型</a></li><li><a href=\"info.php?tid=128\">HTML 背景顏色 bgcolor 與背景圖片 background 設定</a></li><li><a href=\"info.php?tid=86\" title=\"CSS border 邊框\">CSS border 邊框</a></li><li><a href=\"info.php?tid=441\" title=\"HTML Table 表格邊框顏色與樣式設計\">HTML Table 表格邊框顏色與樣式設計</a></li><li><a href=\"info.php?tid=442\" title=\"HTML Table 表格背景顏色\">HTML Table 表格背景顏色</a></li><li><a href=\"info.php?tid=HTML_Table_cellpadding_%E5%B1%AC%E6%80%A7\" title=\"HTML Table cellpadding 屬性\">HTML Table cellpadding 屬性</a></li></ul></div>\\n\\t\\t\\t\\t\\n\\t\\t<div id=\"Ads2\">\\n\\t\\t<!--原生_文章內置_2 Start-->\\n\\t\\t\\n\\t\\t<script async src=\"//pagead2.googlesyndication.com/pagead/js/adsbygoogle.js\"></script>\\n\\t\\t<ins class=\"adsbygoogle\"\\n\\t\\t\\t style=\"display:block; text-align:center;\"\\n\\t\\t\\t data-ad-format=\"fluid\"\\n\\t\\t\\t data-ad-layout=\"in-article\"\\n\\t\\t\\t data-ad-client=\"ca-pub-5633897948803345\"\\n\\t\\t\\t data-ad-slot=\"8935776588\"></ins>\\n\\t\\t<script>\\n\\t\\t\\t (adsbygoogle = window.adsbygoogle || []).push({});\\n\\t\\t</script>\\n\\t\\t\\n\\t\\t<!--原生_文章內置_2 End-->\\n\\t\\t</div>\\n\\t\\t<div id=\"Ads3\">\\n\\t\\t<!--回應式連結_1 Start-->\\n\\t\\t\\n<script async src=\"//pagead2.googlesyndication.com/pagead/js/adsbygoogle.js\"></script>\\n<!-- Wibibi_回應式連結_1 -->\\n<ins class=\"adsbygoogle\"\\n     style=\"display:block\"\\n     data-ad-client=\"ca-pub-5633897948803345\"\\n     data-ad-slot=\"6949588132\"\\n     data-ad-format=\"link\"></ins>\\n<script>\\n(adsbygoogle = window.adsbygoogle || []).push({});\\n</script>\\n\\t\\t\\n\\t\\t<!--回應式連結_1 Start-->\\n\\t\\t</div>\\t\\t\\n\\t\\t\\t\\t\\t\\t<div id=\"SuggestTopic\">\\n\\t\\t<p>您可能會想看</p>\\n\\t\\t<ul>\\n\\t\\t\\t\\t<li><a href=\"info.php?tid=HTML_div_%E6%A8%99%E7%B1%A4\">HTML div 標籤</a></li>\\n\\t\\t\\t\\t<li><a href=\"info.php?tid=%E8%A8%AD%E8%A8%88_HTML_%E5%9C%96%E7%89%87%E8%88%87%E5%9C%96%E7%89%87%E9%82%8A%E6%A1%86%E9%96%93%E7%9A%84%E8%B7%9D%E9%9B%A2\">設計 HTML 圖片與圖片邊框間的距離</a></li>\\n\\t\\t\\t\\t<li><a href=\"info.php?tid=DIV_%E5%8D%80%E5%A1%8A%E5%85%A7%E6%96%87%E5%AD%97%E8%88%87%E9%82%8A%E6%A1%86%E7%9A%84%E8%B7%9D%E9%9B%A2%E8%AA%BF%E6%95%B4\">DIV 區塊內文字與邊框的距離調整</a></li>\\n\\t\\t\\t\\t<li><a href=\"info.php?tid=HTML_TABLE_%E8%A1%A8%E6%A0%BC%E5%85%A7%E7%9A%84%E6%96%87%E5%AD%97%E8%A1%8C%E9%AB%98\">HTML TABLE 表格內的文字行高</a></li>\\n\\t\\t\\t\\t<li><a href=\"info.php?tid=DIV_%E5%8D%80%E5%A1%8A%E5%85%A7%E7%9A%84%E6%96%87%E5%AD%97%E8%A1%8C%E9%AB%98%E8%A8%AD%E8%A8%88\">DIV 區塊內的文字行高設計</a></li>\\n\\t\\t\\t\\t<li><a href=\"info.php?tid=%E6%9B%BF_HTML_button_%E6%8C%89%E9%88%95%E5%A2%9E%E5%8A%A0%E8%83%8C%E6%99%AF%E5%9C%96%E7%89%87\">替 HTML button 按鈕增加背景圖片</a></li>\\n\\t\\t\\t\\t<li><a href=\"info.php?tid=HTML_img_title_%E8%88%87_img_alt_%E7%9A%84%E5%B7%AE%E5%88%A5\">HTML img title 與 img alt 的差別</a></li>\\n\\t\\t\\t\\t<li><a href=\"info.php?tid=%E7%94%A8_CSS_%E8%A8%AD%E8%A8%88_HTML_%E8%A1%A8%E6%A0%BC%E6%AC%84%E4%BD%8D%E5%85%A7%E6%96%87%E5%AD%97%E9%9D%A0%E4%B8%8B%E5%B0%8D%E9%BD%8A\">用 CSS 設計 HTML 表格欄位內文字靠下對齊</a></li>\\n\\t\\t\\t\\t<li><a href=\"info.php?tid=%E7%94%A8_CSS_%E8%A8%AD%E8%A8%88_HTML_%E8%A1%A8%E6%A0%BC%E6%AC%84%E4%BD%8D%E5%85%A7%E6%96%87%E5%AD%97%E9%9D%A0%E4%B8%8A%E5%B0%8D%E9%BD%8A\">用 CSS 設計 HTML 表格欄位內文字靠上對齊</a></li>\\n\\t\\t\\t\\t<li><a href=\"info.php?tid=HTML_Table_colspan_%E5%B1%AC%E6%80%A7\">HTML Table colspan 屬性</a></li>\\n\\t\\t\\t\\t</ul>\\n\\t\\t</div>\\n\\t\\t\\t\\t<!--相符內容 Start-->\\n\\t\\t<div id=\"Ads4\">\\n\\t\\t\\n\\t\\t<script async src=\"//pagead2.googlesyndication.com/pagead/js/adsbygoogle.js\"></script>\\n\\t\\t<ins class=\"adsbygoogle\"\\n\\t\\t\\t style=\"display:block\"\\n\\t\\t\\t data-ad-format=\"autorelaxed\"\\n\\t\\t\\t data-ad-client=\"ca-pub-5633897948803345\"\\n\\t\\t\\t data-ad-slot=\"6965838540\"></ins>\\n\\t\\t<script>\\n\\t\\t\\t (adsbygoogle = window.adsbygoogle || []).push({});\\n\\t\\t</script>\\t\\t\\n\\t\\t\\n\\t\\t</div>\\n\\t\\t<!--相符內容 End-->\\n\\t\\t\\t</div>\\n\\t<div id=\\'sidebar_right\\'>\\n\\t\\t\\t\\t<div id=\"Ads5\">\\n\\t\\t\\t\\n\\t\\t<script async src=\"//pagead2.googlesyndication.com/pagead/js/adsbygoogle.js\"></script>\\n\\t\\t<!-- Wibibi_回應式_1 -->\\n\\t\\t<ins class=\"adsbygoogle\"\\n\\t\\t\\t style=\"display:block\"\\n\\t\\t\\t data-ad-client=\"ca-pub-5633897948803345\"\\n\\t\\t\\t data-ad-slot=\"7789038844\"\\n\\t\\t\\t data-ad-format=\"auto\"></ins>\\n\\t\\t<script>\\n\\t\\t(adsbygoogle = window.adsbygoogle || []).push({});\\n\\t\\t</script>\\t\\t\\n\\t\\t\\n\\t\\t</div>\\n\\t\\t<div id=\"ToDayHotList\">\\n\\t\\t<p>今日熱門文章</p>\\n\\t\\t<ul>\\n\\t\\t\\t\\t<li><a href=\"info.php?tid=HTML_div_%E6%A8%99%E7%B1%A4\">HTML div 標籤</a></li>\\n\\t\\t\\t\\t<li><a href=\"info.php?tid=CSS_Attribute_Selectors_%E5%B1%AC%E6%80%A7%E9%81%B8%E6%93%87%E5%99%A8\">CSS Attribute Selectors 屬性選擇器</a></li>\\n\\t\\t\\t\\t<li><a href=\"info.php?tid=%E6%9B%BF_CSS_span_%E5%8D%80%E5%9F%9F%E5%A2%9E%E5%8A%A0%E9%99%B0%E5%BD%B1%E6%95%88%E6%9E%9C\">替 CSS span 區域增加陰影效果</a></li>\\n\\t\\t\\t\\t<li><a href=\"info.php?tid=CSS_span_%E5%8D%80%E5%9F%9F%E6%96%87%E5%AD%97%E5%AD%97%E5%9E%8B%E8%A8%AD%E8%A8%88\">CSS span 區域文字字型設計</a></li>\\n\\t\\t\\t\\t<li><a href=\"info.php?tid=CSS_span_%E5%8D%80%E5%9F%9F%E9%82%8A%E6%A1%86%E9%A1%8F%E8%89%B2%E8%88%87%E6%A8%A3%E5%BC%8F%E8%A8%AD%E8%A8%88\">CSS span 區域邊框顏色與樣式設計</a></li>\\n\\t\\t\\t\\t<li><a href=\"info.php?tid=CSS_span_%E5%8D%80%E5%9F%9F%E8%83%8C%E6%99%AF%E9%A1%8F%E8%89%B2%E8%A8%AD%E8%A8%88\">CSS span 區域背景顏色設計</a></li>\\n\\t\\t\\t\\t<li><a href=\"info.php?tid=%E8%A8%AD%E8%A8%88_HTML_%E5%9C%96%E7%89%87%E8%88%87%E5%9C%96%E7%89%87%E9%82%8A%E6%A1%86%E9%96%93%E7%9A%84%E8%B7%9D%E9%9B%A2\">設計 HTML 圖片與圖片邊框間的距離</a></li>\\n\\t\\t\\t\\t<li><a href=\"info.php?tid=DIV_%E5%8D%80%E5%A1%8A%E5%85%A7%E6%96%87%E5%AD%97%E8%88%87%E9%82%8A%E6%A1%86%E7%9A%84%E8%B7%9D%E9%9B%A2%E8%AA%BF%E6%95%B4\">DIV 區塊內文字與邊框的距離調整</a></li>\\n\\t\\t\\t\\t<li><a href=\"info.php?tid=HTML_TABLE_%E8%A1%A8%E6%A0%BC%E5%85%A7%E7%9A%84%E6%96%87%E5%AD%97%E8%A1%8C%E9%AB%98\">HTML TABLE 表格內的文字行高</a></li>\\n\\t\\t\\t\\t<li><a href=\"info.php?tid=DIV_%E5%8D%80%E5%A1%8A%E5%85%A7%E7%9A%84%E6%96%87%E5%AD%97%E8%A1%8C%E9%AB%98%E8%A8%AD%E8%A8%88\">DIV 區塊內的文字行高設計</a></li>\\n\\t\\t\\t\\t</ul>\\n\\t\\t</div>\\t\\t\\t\\n\\t\\t<div id=\\'Ads6\\'>\\n\\t\\t\\n\\t\\t<script async src=\"//pagead2.googlesyndication.com/pagead/js/adsbygoogle.js\"></script>\\n\\t\\t<!-- Wibibi_回應式_2 -->\\n\\t\\t<ins class=\"adsbygoogle\"\\n\\t\\t\\t style=\"display:block\"\\n\\t\\t\\t data-ad-client=\"ca-pub-5633897948803345\"\\n\\t\\t\\t data-ad-slot=\"7844879168\"\\n\\t\\t\\t data-ad-format=\"auto\"></ins>\\n\\t\\t<script>\\n\\t\\t(adsbygoogle = window.adsbygoogle || []).push({});\\n\\t\\t</script>\\t\\n\\t\\t\\n\\t\\t</div>\\n\\t\\t<div id=\"NowHotTopicList\">\\n\\t\\t<p>即時熱門文章</p>\\n\\t\\t<ul>\\n\\t\\t\\t\\t<li><a href=\"info.php?tid=HTML_div_%E6%A8%99%E7%B1%A4\">HTML div 標籤</a></li>\\n\\t\\t\\t\\t<li><a href=\"info.php?tid=CSS_Attribute_Selectors_%E5%B1%AC%E6%80%A7%E9%81%B8%E6%93%87%E5%99%A8\">CSS Attribute Selectors 屬性選擇器</a></li>\\n\\t\\t\\t\\t<li><a href=\"info.php?tid=%E6%9B%BF_CSS_span_%E5%8D%80%E5%9F%9F%E5%A2%9E%E5%8A%A0%E9%99%B0%E5%BD%B1%E6%95%88%E6%9E%9C\">替 CSS span 區域增加陰影效果</a></li>\\n\\t\\t\\t\\t<li><a href=\"info.php?tid=CSS_span_%E5%8D%80%E5%9F%9F%E6%96%87%E5%AD%97%E5%AD%97%E5%9E%8B%E8%A8%AD%E8%A8%88\">CSS span 區域文字字型設計</a></li>\\n\\t\\t\\t\\t<li><a href=\"info.php?tid=CSS_span_%E5%8D%80%E5%9F%9F%E9%82%8A%E6%A1%86%E9%A1%8F%E8%89%B2%E8%88%87%E6%A8%A3%E5%BC%8F%E8%A8%AD%E8%A8%88\">CSS span 區域邊框顏色與樣式設計</a></li>\\n\\t\\t\\t\\t<li><a href=\"info.php?tid=CSS_span_%E5%8D%80%E5%9F%9F%E8%83%8C%E6%99%AF%E9%A1%8F%E8%89%B2%E8%A8%AD%E8%A8%88\">CSS span 區域背景顏色設計</a></li>\\n\\t\\t\\t\\t<li><a href=\"info.php?tid=%E8%A8%AD%E8%A8%88_HTML_%E5%9C%96%E7%89%87%E8%88%87%E5%9C%96%E7%89%87%E9%82%8A%E6%A1%86%E9%96%93%E7%9A%84%E8%B7%9D%E9%9B%A2\">設計 HTML 圖片與圖片邊框間的距離</a></li>\\n\\t\\t\\t\\t<li><a href=\"info.php?tid=DIV_%E5%8D%80%E5%A1%8A%E5%85%A7%E6%96%87%E5%AD%97%E8%88%87%E9%82%8A%E6%A1%86%E7%9A%84%E8%B7%9D%E9%9B%A2%E8%AA%BF%E6%95%B4\">DIV 區塊內文字與邊框的距離調整</a></li>\\n\\t\\t\\t\\t<li><a href=\"info.php?tid=HTML_TABLE_%E8%A1%A8%E6%A0%BC%E5%85%A7%E7%9A%84%E6%96%87%E5%AD%97%E8%A1%8C%E9%AB%98\">HTML TABLE 表格內的文字行高</a></li>\\n\\t\\t\\t\\t<li><a href=\"info.php?tid=DIV_%E5%8D%80%E5%A1%8A%E5%85%A7%E7%9A%84%E6%96%87%E5%AD%97%E8%A1%8C%E9%AB%98%E8%A8%AD%E8%A8%88\">DIV 區塊內的文字行高設計</a></li>\\n\\t\\t\\t\\t</ul>\\n\\t\\t</div>\\t\\n\\t\\t<div id=\\'Ads7\\'>\\n\\t\\t\\n\\t\\t<script async src=\"//pagead2.googlesyndication.com/pagead/js/adsbygoogle.js\"></script>\\n\\t\\t<!-- Wibibi_回應式_3 -->\\n\\t\\t<ins class=\"adsbygoogle\"\\n\\t\\t\\t style=\"display:block\"\\n\\t\\t\\t data-ad-client=\"ca-pub-5633897948803345\"\\n\\t\\t\\t data-ad-slot=\"8837384872\"\\n\\t\\t\\t data-ad-format=\"auto\"></ins>\\n\\t\\t<script>\\n\\t\\t(adsbygoogle = window.adsbygoogle || []).push({});\\n\\t\\t</script>\\t\\t\\n\\t\\t\\n\\t\\t</div>\\n\\t\\t<div id=\"Ads8\">\\n\\t\\t\\n\\t\\t<script async src=\"//pagead2.googlesyndication.com/pagead/js/adsbygoogle.js\"></script>\\n\\t\\t<!-- Wibibi_回應式連結_2 -->\\n\\t\\t<ins class=\"adsbygoogle\"\\n\\t\\t\\t style=\"display:block\"\\n\\t\\t\\t data-ad-client=\"ca-pub-5633897948803345\"\\n\\t\\t\\t data-ad-slot=\"6959338178\"\\n\\t\\t\\t data-ad-format=\"link\"></ins>\\n\\t\\t<script>\\n\\t\\t(adsbygoogle = window.adsbygoogle || []).push({});\\n\\t\\t</script>\\t\\t\\n\\t\\t\\n\\t\\t</div>\\n\\t\\t<div id=\\'FB\\'><iframe src=\"//www.facebook.com/plugins/likebox.php?href=http%3A%2F%2Fwww.facebook.com%2Fpages%2FWibibi-%25E7%25B6%25B2%25E9%25A0%2581%25E8%25A8%25AD%25E8%25A8%2588%25E6%2595%2599%25E5%25AD%25B8%25E5%2588%2586%25E4%25BA%25AB%2F445620392149569&amp;width=300&amp;height=460&amp;colorscheme=light&amp;show_faces=false&amp;border_color&amp;stream=true&amp;header=true\" style=\"border:none; overflow:hidden; width:300px; height:460px;\" allowtransparency=\"true\" frameborder=\"0\" scrolling=\"no\"></iframe></div>\\n\\t\\t<div id=\\'Ads9\\'>\\n\\t\\t<!--域動行銷 Start-->\\n\\t\\t\\n\\t\\t<ins class=\"clickforceads\" style=\"display:inline-block;width:300px;height:250px;\" data-ad-zone=\"433\"></ins>\\n\\t\\t<script async type=\"text/javascript\" src=\"//cdn.doublemax.net/js/init.js\"></script>\\n\\t\\t\\n\\t\\t<!--域動行銷 End-->\\t\\n\\t\\t</div>\\n\\t\\t\\t\\n\\t</div>\\n\\t<div style=\"clear:both;\"></div>\\n</div>\\n<div id=\\'FooterBox\\'>\\n\\t<div id=\\'FooterDiscript\\'>© Copyright <a href=\\'/\\'>wibibi.com</a> 網頁設計教學百科 基礎的網頁設計規劃、資料庫與程式設計 Since 2012 <a href=\"http://en.wibibi.com\">Englsih version</a><br><a href=\\'http://www.php.net/\\' target=\\'_blank\\'>PHP</a> <a href=\\'http://www.smarty.net/\\' target=\\'_blank\\'>Smarty</a> <a href=\\'http://www.mysql.com/\\' target=\\'_blank\\'>MySQL</a> <a href=\\'http://jquery.com/\\' target=\\'_blank\\'>JQuery</a> <a href=\\'http://www.apache.org/\\' target=\\'_blank\\'>Apache</a> <a href=\\'http://www.w3c.org/\\' target=\\'_blank\\'>W3C</a></div>\\n</div>\\n\\n<!--導入JQuery與滑動選單 Start-->\\n<script src=\"http://ajax.googleapis.com/ajax/libs/jquery/1.9.1/jquery.min.js\"></script>\\n<script type=\"text/javascript\">\\n$(document).ready(function() {\\n    $(\"#toggle\").click(function() {\\n        $(this).toggleClass(\"active\");\\n        $(\"#Menu\").slideToggle();\\n    });\\n\\n});\\n</script>\\n<!--導入JQuery與滑動選單 End-->\\n\\n<script type=\"text/javascript\">\\n\\n  var _gaq = _gaq || [];\\n  _gaq.push([\\'_setAccount\\', \\'UA-32829362-1\\']);\\n  _gaq.push([\\'_trackPageview\\']);\\n\\n  (function() {\\n    var ga = document.createElement(\\'script\\'); ga.type = \\'text/javascript\\'; ga.async = true;\\n    ga.src = (\\'https:\\' == document.location.protocol ? \\'https://ssl\\' : \\'http://www\\') + \\'.google-analytics.com/ga.js\\';\\n    var s = document.getElementsByTagName(\\'script\\')[0]; s.parentNode.insertBefore(ga, s);\\n  })();\\n\\n</script>\\n\\n</body>\\n</html>'"
      ]
     },
     "execution_count": 3,
     "metadata": {},
     "output_type": "execute_result"
    }
   ],
   "source": [
    "res.encoding = 'utf-8' # 'big5'\n",
    "res.text"
   ]
  },
  {
   "cell_type": "markdown",
   "metadata": {},
   "source": [
    "### 轉成DataFrame\n",
    "\n",
    "接下來的步驟，我們要將文字檔中的table轉成DataFrame，主要可以分成兩個步驟：\n",
    "* 存成 html 檔\n",
    "* 用 pandas 讀取 html 檔"
   ]
  },
  {
   "cell_type": "code",
   "execution_count": 3,
   "metadata": {
    "collapsed": true
   },
   "outputs": [],
   "source": [
    "# 存檔\n",
    "\n",
    "f = open('test.html', 'w', encoding='utf-8')\n",
    "f.write(res.text)\n",
    "f.close()"
   ]
  },
  {
   "cell_type": "code",
   "execution_count": 6,
   "metadata": {
    "collapsed": true
   },
   "outputs": [],
   "source": [
    "# 讀檔並轉成DataFrame\n",
    "\n",
    "import pandas as pd\n",
    "dfs = pd.read_html('test.html')"
   ]
  },
  {
   "cell_type": "code",
   "execution_count": 10,
   "metadata": {},
   "outputs": [
    {
     "data": {
      "text/html": [
       "<div>\n",
       "<style scoped>\n",
       "    .dataframe tbody tr th:only-of-type {\n",
       "        vertical-align: middle;\n",
       "    }\n",
       "\n",
       "    .dataframe tbody tr th {\n",
       "        vertical-align: top;\n",
       "    }\n",
       "\n",
       "    .dataframe thead th {\n",
       "        text-align: right;\n",
       "    }\n",
       "</style>\n",
       "<table border=\"1\" class=\"dataframe\">\n",
       "  <thead>\n",
       "    <tr style=\"text-align: right;\">\n",
       "      <th></th>\n",
       "      <th>0</th>\n",
       "      <th>1</th>\n",
       "    </tr>\n",
       "  </thead>\n",
       "  <tbody>\n",
       "    <tr>\n",
       "      <th>0</th>\n",
       "      <td>這裡是第一行</td>\n",
       "      <td>NaN</td>\n",
       "    </tr>\n",
       "    <tr>\n",
       "      <th>1</th>\n",
       "      <td>這裡是第二行的第一個欄位</td>\n",
       "      <td>這裡是第二行的第二個欄位</td>\n",
       "    </tr>\n",
       "  </tbody>\n",
       "</table>\n",
       "</div>"
      ],
      "text/plain": [
       "              0             1\n",
       "0        這裡是第一行           NaN\n",
       "1  這裡是第二行的第一個欄位  這裡是第二行的第二個欄位"
      ]
     },
     "execution_count": 10,
     "metadata": {},
     "output_type": "execute_result"
    }
   ],
   "source": [
    "# 瀏覽\n",
    "dfs[3]"
   ]
  },
  {
   "cell_type": "markdown",
   "metadata": {},
   "source": [
    "### 轉成DataFrame（快速版）\n",
    "\n",
    "其實也可以只寫成一個步驟（但還是建議先存起來）"
   ]
  },
  {
   "cell_type": "code",
   "execution_count": 12,
   "metadata": {},
   "outputs": [
    {
     "data": {
      "text/html": [
       "<div>\n",
       "<style scoped>\n",
       "    .dataframe tbody tr th:only-of-type {\n",
       "        vertical-align: middle;\n",
       "    }\n",
       "\n",
       "    .dataframe tbody tr th {\n",
       "        vertical-align: top;\n",
       "    }\n",
       "\n",
       "    .dataframe thead th {\n",
       "        text-align: right;\n",
       "    }\n",
       "</style>\n",
       "<table border=\"1\" class=\"dataframe\">\n",
       "  <thead>\n",
       "    <tr style=\"text-align: right;\">\n",
       "      <th></th>\n",
       "      <th>0</th>\n",
       "      <th>1</th>\n",
       "    </tr>\n",
       "  </thead>\n",
       "  <tbody>\n",
       "    <tr>\n",
       "      <th>0</th>\n",
       "      <td>這裡是第一行</td>\n",
       "      <td>NaN</td>\n",
       "    </tr>\n",
       "    <tr>\n",
       "      <th>1</th>\n",
       "      <td>這裡是第二行的第一個欄位</td>\n",
       "      <td>這裡是第二行的第二個欄位</td>\n",
       "    </tr>\n",
       "  </tbody>\n",
       "</table>\n",
       "</div>"
      ],
      "text/plain": [
       "              0             1\n",
       "0        這裡是第一行           NaN\n",
       "1  這裡是第二行的第一個欄位  這裡是第二行的第二個欄位"
      ]
     },
     "execution_count": 12,
     "metadata": {},
     "output_type": "execute_result"
    }
   ],
   "source": [
    "# 不存檔直接轉成DataFrame\n",
    "from io import StringIO\n",
    "\n",
    "dfs = pd.read_html(StringIO(res.text))\n",
    "dfs[3]"
   ]
  }
 ],
 "metadata": {
  "kernelspec": {
   "display_name": "Python 3",
   "language": "python",
   "name": "python3"
  },
  "language_info": {
   "codemirror_mode": {
    "name": "ipython",
    "version": 3
   },
   "file_extension": ".py",
   "mimetype": "text/x-python",
   "name": "python",
   "nbconvert_exporter": "python",
   "pygments_lexer": "ipython3",
   "version": "3.6.3"
  }
 },
 "nbformat": 4,
 "nbformat_minor": 2
}
